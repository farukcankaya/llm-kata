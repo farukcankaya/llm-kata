{
 "nbformat": 4,
 "nbformat_minor": 0,
 "metadata": {
  "colab": {
   "provenance": []
  },
  "kernelspec": {
   "name": "python3",
   "language": "python",
   "display_name": "Python 3 (ipykernel)"
  },
  "language_info": {
   "name": "python"
  }
 },
 "cells": [
  {
   "cell_type": "code",
   "outputs": [],
   "source": [
    "!pip install jupyter scikit-learn torch matplotlib openai python-dotenv pandas tiktoken"
   ],
   "metadata": {
    "collapsed": false
   }
  },
  {
   "cell_type": "markdown",
   "source": [
    "## The First Neural Network: Perceptron\n",
    "!Codes are generated with ChatGPT 3.5"
   ],
   "metadata": {
    "collapsed": false
   }
  },
  {
   "cell_type": "code",
   "outputs": [
    {
     "data": {
      "text/plain": "<torch._C.Generator at 0x11c0069f0>"
     },
     "execution_count": 226,
     "metadata": {},
     "output_type": "execute_result"
    }
   ],
   "source": [
    "import torch\n",
    "import torch.nn as nn\n",
    "import matplotlib.pyplot as plt\n",
    "import numpy as np\n",
    "\n",
    "np.random.seed(42)\n",
    "torch.manual_seed(42)"
   ],
   "metadata": {
    "collapsed": false,
    "ExecuteTime": {
     "end_time": "2024-07-24T15:32:27.933638Z",
     "start_time": "2024-07-24T15:32:27.787356Z"
    }
   },
   "execution_count": 226
  },
  {
   "cell_type": "code",
   "outputs": [],
   "source": [
    "n_samples = 100\n",
    "mean1 = [2, 2]\n",
    "mean2 = [4, 4]\n",
    "cov = [[0.5, 0], [0, 0.5]]  # diagonal covariance\n",
    "\n",
    "data_class0 = np.random.multivariate_normal(mean1, cov, n_samples // 2)\n",
    "data_class1 = np.random.multivariate_normal(mean2, cov, n_samples // 2)\n",
    "\n",
    "features = np.vstack((data_class0, data_class1))\n",
    "labels = np.hstack((np.zeros(n_samples // 2), np.ones(n_samples // 2))).reshape(-1, 1)\n",
    "\n",
    "# Convert to PyTorch tensors\n",
    "data_tensor = torch.tensor(features, dtype=torch.float32)\n",
    "labels_tensor = torch.tensor(labels, dtype=torch.float32)\n",
    "\n",
    "#features = torch.tensor([[0.0, 0.0], [0.0, 1.0], [1.0, 0.0], [1.0, 1.0]], dtype=torch.float32) # frequency of free, email length\n",
    "#labels = torch.tensor([[0.0], [1.0], [1.0], [0.0]], dtype=torch.float32) # binary= spam or not\n",
    "\n",
    "# XOR Example\n",
    "#n_samples = 100\n",
    "#features = np.random.randn(n_samples, 2)\n",
    "#labels = (features[:, 0] * features[:, 1] > 0).astype(np.float32).reshape(-1, 1)  # Labels: 1 if x1*x2 > 0, else 0"
   ],
   "metadata": {
    "collapsed": false,
    "ExecuteTime": {
     "end_time": "2024-07-24T15:32:28.450318Z",
     "start_time": "2024-07-24T15:32:28.424153Z"
    }
   },
   "execution_count": 227
  },
  {
   "cell_type": "code",
   "outputs": [
    {
     "data": {
      "text/plain": "    FreqOfFree  EmailLength  IsSpam\n0     2.351230     1.902232     0.0\n1     2.457985     3.076945     0.0\n2     1.834429     1.834440     0.0\n3     3.116672     2.542658     0.0\n4     1.668031     2.383648     0.0\n..         ...          ...     ...\n95    3.684266     4.605565     1.0\n96    4.151387     3.119130     1.0\n97    4.122457     4.272461     1.0\n98    3.375018     4.108700     1.0\n99    4.041160     3.191798     1.0\n\n[100 rows x 3 columns]",
      "text/html": "<div>\n<style scoped>\n    .dataframe tbody tr th:only-of-type {\n        vertical-align: middle;\n    }\n\n    .dataframe tbody tr th {\n        vertical-align: top;\n    }\n\n    .dataframe thead th {\n        text-align: right;\n    }\n</style>\n<table border=\"1\" class=\"dataframe\">\n  <thead>\n    <tr style=\"text-align: right;\">\n      <th></th>\n      <th>FreqOfFree</th>\n      <th>EmailLength</th>\n      <th>IsSpam</th>\n    </tr>\n  </thead>\n  <tbody>\n    <tr>\n      <th>0</th>\n      <td>2.351230</td>\n      <td>1.902232</td>\n      <td>0.0</td>\n    </tr>\n    <tr>\n      <th>1</th>\n      <td>2.457985</td>\n      <td>3.076945</td>\n      <td>0.0</td>\n    </tr>\n    <tr>\n      <th>2</th>\n      <td>1.834429</td>\n      <td>1.834440</td>\n      <td>0.0</td>\n    </tr>\n    <tr>\n      <th>3</th>\n      <td>3.116672</td>\n      <td>2.542658</td>\n      <td>0.0</td>\n    </tr>\n    <tr>\n      <th>4</th>\n      <td>1.668031</td>\n      <td>2.383648</td>\n      <td>0.0</td>\n    </tr>\n    <tr>\n      <th>...</th>\n      <td>...</td>\n      <td>...</td>\n      <td>...</td>\n    </tr>\n    <tr>\n      <th>95</th>\n      <td>3.684266</td>\n      <td>4.605565</td>\n      <td>1.0</td>\n    </tr>\n    <tr>\n      <th>96</th>\n      <td>4.151387</td>\n      <td>3.119130</td>\n      <td>1.0</td>\n    </tr>\n    <tr>\n      <th>97</th>\n      <td>4.122457</td>\n      <td>4.272461</td>\n      <td>1.0</td>\n    </tr>\n    <tr>\n      <th>98</th>\n      <td>3.375018</td>\n      <td>4.108700</td>\n      <td>1.0</td>\n    </tr>\n    <tr>\n      <th>99</th>\n      <td>4.041160</td>\n      <td>3.191798</td>\n      <td>1.0</td>\n    </tr>\n  </tbody>\n</table>\n<p>100 rows × 3 columns</p>\n</div>"
     },
     "execution_count": 228,
     "metadata": {},
     "output_type": "execute_result"
    }
   ],
   "source": [
    "import pandas as pd\n",
    "df = pd.DataFrame({'FreqOfFree': features[:, 0], 'EmailLength': features[:, 1], \"IsSpam\": np.squeeze(labels)})\n",
    "df.head(100)"
   ],
   "metadata": {
    "collapsed": false,
    "ExecuteTime": {
     "end_time": "2024-07-24T15:32:29.205592Z",
     "start_time": "2024-07-24T15:32:29.185389Z"
    }
   },
   "execution_count": 228
  },
  {
   "cell_type": "code",
   "outputs": [
    {
     "data": {
      "text/plain": "<Figure size 640x480 with 1 Axes>",
      "image/png": "[encoded data removed]"
     },
     "metadata": {},
     "output_type": "display_data"
    }
   ],
   "source": [
    "# Plot the data\n",
    "for i in range(len(features)):\n",
    "    if labels[i] == 0:\n",
    "        plt.scatter(features[i, 0], features[i, 1], c='red', label='Spam' if i == 0 else \"\")\n",
    "    else:\n",
    "        plt.scatter(features[i, 0], features[i, 1], c='blue', label='Not Spam' if i == 1 else \"\")\n",
    "\n",
    "# Add labels and title\n",
    "plt.xlabel('Freq. of \"free\"')\n",
    "plt.ylabel('Email Length')\n",
    "plt.title('Email Spam Classification')\n",
    "\n",
    "# Add a legend\n",
    "plt.legend(loc='best')\n",
    "\n",
    "# Show the plot\n",
    "plt.grid(True)\n",
    "plt.show()"
   ],
   "metadata": {
    "collapsed": false,
    "ExecuteTime": {
     "end_time": "2024-07-24T15:32:34.304780Z",
     "start_time": "2024-07-24T15:32:33.814373Z"
    }
   },
   "execution_count": 229
  },
  {
   "cell_type": "markdown",
   "source": [
    "![image](./assets/llm_in_action_101_perceptron.png)"
   ],
   "metadata": {
    "collapsed": false
   }
  },
  {
   "cell_type": "code",
   "outputs": [
    {
     "name": "stdout",
     "output_type": "stream",
     "text": [
      "tensor([[0.5406, 0.5869]])\n",
      "Parameter containing:\n",
      "tensor([-0.1657], requires_grad=True)\n"
     ]
    }
   ],
   "source": [
    "# Define the Perceptron model with a single neuron\n",
    "class Perceptron(nn.Module):\n",
    "    def __init__(self):\n",
    "        super(Perceptron, self).__init__()\n",
    "        # Single linear layer with 2 inputs and 1 output (binary classification)\n",
    "        self.fc = nn.Linear(2, 1)\n",
    "    \n",
    "    def forward(self, x):\n",
    "        return torch.sigmoid(self.fc(x))  # Apply sigmoid activation function\n",
    "\n",
    "# Initialize the Perceptron model\n",
    "model = Perceptron()\n",
    "\n",
    "print(model.fc.weight.data)\n",
    "print(model.fc.bias)"
   ],
   "metadata": {
    "collapsed": false,
    "ExecuteTime": {
     "end_time": "2024-07-24T15:32:42.001579Z",
     "start_time": "2024-07-24T15:32:41.503302Z"
    }
   },
   "execution_count": 230
  },
  {
   "cell_type": "markdown",
   "source": [
    "### Training"
   ],
   "metadata": {
    "collapsed": false
   }
  },
  {
   "cell_type": "code",
   "outputs": [
    {
     "name": "stdout",
     "output_type": "stream",
     "text": [
      "Epoch [1/300], Loss: 1.0811, weights:tensor([[0.4594, 0.5033]])  bias:Parameter containing:\n",
      "tensor([-0.2085], requires_grad=True)\n",
      "Epoch [1/300], Loss: 0.9322, weights:tensor([[0.3845, 0.4261]])  bias:Parameter containing:\n",
      "tensor([-0.2486], requires_grad=True)\n",
      "Epoch [2/300], Loss: 0.8076, weights:tensor([[0.3184, 0.3580]])  bias:Parameter containing:\n",
      "tensor([-0.2852], requires_grad=True)\n",
      "Epoch [3/300], Loss: 0.7123, weights:tensor([[0.2638, 0.3017]])  bias:Parameter containing:\n",
      "tensor([-0.3175], requires_grad=True)\n",
      "Epoch [4/300], Loss: 0.6480, weights:tensor([[0.2223, 0.2589]])  bias:Parameter containing:\n",
      "tensor([-0.3452], requires_grad=True)\n",
      "Epoch [5/300], Loss: 0.6107, weights:tensor([[0.1936, 0.2294]])  bias:Parameter containing:\n",
      "tensor([-0.3686], requires_grad=True)\n",
      "Epoch [6/300], Loss: 0.5918, weights:tensor([[0.1756, 0.2110]])  bias:Parameter containing:\n",
      "tensor([-0.3886], requires_grad=True)\n",
      "Epoch [7/300], Loss: 0.5828, weights:tensor([[0.1653, 0.2005]])  bias:Parameter containing:\n",
      "tensor([-0.4060], requires_grad=True)\n",
      "Epoch [8/300], Loss: 0.5783, weights:tensor([[0.1600, 0.1953]])  bias:Parameter containing:\n",
      "tensor([-0.4218], requires_grad=True)\n",
      "Epoch [9/300], Loss: 0.5755, weights:tensor([[0.1577, 0.1932]])  bias:Parameter containing:\n",
      "tensor([-0.4366], requires_grad=True)\n",
      "Epoch [10/300], Loss: 0.5733, weights:tensor([[0.1572, 0.1929]])  bias:Parameter containing:\n",
      "tensor([-0.4508], requires_grad=True)\n",
      "Epoch [11/300], Loss: 0.5713, weights:tensor([[0.1578, 0.1938]])  bias:Parameter containing:\n",
      "tensor([-0.4647], requires_grad=True)\n",
      "Epoch [12/300], Loss: 0.5694, weights:tensor([[0.1589, 0.1952]])  bias:Parameter containing:\n",
      "tensor([-0.4783], requires_grad=True)\n",
      "Epoch [13/300], Loss: 0.5675, weights:tensor([[0.1604, 0.1969]])  bias:Parameter containing:\n",
      "tensor([-0.4918], requires_grad=True)\n",
      "Epoch [14/300], Loss: 0.5656, weights:tensor([[0.1620, 0.1989]])  bias:Parameter containing:\n",
      "tensor([-0.5052], requires_grad=True)\n",
      "Epoch [15/300], Loss: 0.5638, weights:tensor([[0.1638, 0.2009]])  bias:Parameter containing:\n",
      "tensor([-0.5185], requires_grad=True)\n",
      "Epoch [16/300], Loss: 0.5619, weights:tensor([[0.1656, 0.2030]])  bias:Parameter containing:\n",
      "tensor([-0.5318], requires_grad=True)\n",
      "Epoch [17/300], Loss: 0.5601, weights:tensor([[0.1674, 0.2051]])  bias:Parameter containing:\n",
      "tensor([-0.5450], requires_grad=True)\n",
      "Epoch [18/300], Loss: 0.5583, weights:tensor([[0.1693, 0.2072]])  bias:Parameter containing:\n",
      "tensor([-0.5582], requires_grad=True)\n",
      "Epoch [19/300], Loss: 0.5564, weights:tensor([[0.1712, 0.2093]])  bias:Parameter containing:\n",
      "tensor([-0.5713], requires_grad=True)\n",
      "Epoch [20/300], Loss: 0.5546, weights:tensor([[0.1730, 0.2114]])  bias:Parameter containing:\n",
      "tensor([-0.5844], requires_grad=True)\n",
      "Epoch [21/300], Loss: 0.5529, weights:tensor([[0.1749, 0.2135]])  bias:Parameter containing:\n",
      "tensor([-0.5974], requires_grad=True)\n",
      "Epoch [22/300], Loss: 0.5511, weights:tensor([[0.1768, 0.2156]])  bias:Parameter containing:\n",
      "tensor([-0.6104], requires_grad=True)\n",
      "Epoch [23/300], Loss: 0.5493, weights:tensor([[0.1787, 0.2177]])  bias:Parameter containing:\n",
      "tensor([-0.6234], requires_grad=True)\n",
      "Epoch [24/300], Loss: 0.5475, weights:tensor([[0.1806, 0.2198]])  bias:Parameter containing:\n",
      "tensor([-0.6364], requires_grad=True)\n",
      "Epoch [25/300], Loss: 0.5458, weights:tensor([[0.1824, 0.2219]])  bias:Parameter containing:\n",
      "tensor([-0.6493], requires_grad=True)\n",
      "Epoch [26/300], Loss: 0.5441, weights:tensor([[0.1843, 0.2240]])  bias:Parameter containing:\n",
      "tensor([-0.6621], requires_grad=True)\n",
      "Epoch [27/300], Loss: 0.5423, weights:tensor([[0.1862, 0.2260]])  bias:Parameter containing:\n",
      "tensor([-0.6749], requires_grad=True)\n",
      "Epoch [28/300], Loss: 0.5406, weights:tensor([[0.1881, 0.2281]])  bias:Parameter containing:\n",
      "tensor([-0.6877], requires_grad=True)\n",
      "Epoch [29/300], Loss: 0.5389, weights:tensor([[0.1900, 0.2301]])  bias:Parameter containing:\n",
      "tensor([-0.7005], requires_grad=True)\n",
      "Epoch [30/300], Loss: 0.5372, weights:tensor([[0.1918, 0.2321]])  bias:Parameter containing:\n",
      "tensor([-0.7132], requires_grad=True)\n",
      "Epoch [31/300], Loss: 0.5355, weights:tensor([[0.1937, 0.2342]])  bias:Parameter containing:\n",
      "tensor([-0.7259], requires_grad=True)\n",
      "Epoch [32/300], Loss: 0.5338, weights:tensor([[0.1956, 0.2362]])  bias:Parameter containing:\n",
      "tensor([-0.7385], requires_grad=True)\n",
      "Epoch [33/300], Loss: 0.5321, weights:tensor([[0.1975, 0.2382]])  bias:Parameter containing:\n",
      "tensor([-0.7511], requires_grad=True)\n",
      "Epoch [34/300], Loss: 0.5305, weights:tensor([[0.1993, 0.2402]])  bias:Parameter containing:\n",
      "tensor([-0.7637], requires_grad=True)\n",
      "Epoch [35/300], Loss: 0.5288, weights:tensor([[0.2012, 0.2422]])  bias:Parameter containing:\n",
      "tensor([-0.7762], requires_grad=True)\n",
      "Epoch [36/300], Loss: 0.5272, weights:tensor([[0.2031, 0.2441]])  bias:Parameter containing:\n",
      "tensor([-0.7887], requires_grad=True)\n",
      "Epoch [37/300], Loss: 0.5256, weights:tensor([[0.2049, 0.2461]])  bias:Parameter containing:\n",
      "tensor([-0.8012], requires_grad=True)\n",
      "Epoch [38/300], Loss: 0.5239, weights:tensor([[0.2068, 0.2481]])  bias:Parameter containing:\n",
      "tensor([-0.8136], requires_grad=True)\n",
      "Epoch [39/300], Loss: 0.5223, weights:tensor([[0.2087, 0.2500]])  bias:Parameter containing:\n",
      "tensor([-0.8260], requires_grad=True)\n",
      "Epoch [40/300], Loss: 0.5207, weights:tensor([[0.2105, 0.2520]])  bias:Parameter containing:\n",
      "tensor([-0.8383], requires_grad=True)\n",
      "Epoch [41/300], Loss: 0.5191, weights:tensor([[0.2124, 0.2539]])  bias:Parameter containing:\n",
      "tensor([-0.8507], requires_grad=True)\n",
      "Epoch [42/300], Loss: 0.5175, weights:tensor([[0.2142, 0.2559]])  bias:Parameter containing:\n",
      "tensor([-0.8629], requires_grad=True)\n",
      "Epoch [43/300], Loss: 0.5160, weights:tensor([[0.2161, 0.2578]])  bias:Parameter containing:\n",
      "tensor([-0.8752], requires_grad=True)\n",
      "Epoch [44/300], Loss: 0.5144, weights:tensor([[0.2180, 0.2597]])  bias:Parameter containing:\n",
      "tensor([-0.8874], requires_grad=True)\n",
      "Epoch [45/300], Loss: 0.5128, weights:tensor([[0.2198, 0.2616]])  bias:Parameter containing:\n",
      "tensor([-0.8996], requires_grad=True)\n",
      "Epoch [46/300], Loss: 0.5113, weights:tensor([[0.2217, 0.2635]])  bias:Parameter containing:\n",
      "tensor([-0.9117], requires_grad=True)\n",
      "Epoch [47/300], Loss: 0.5097, weights:tensor([[0.2235, 0.2654]])  bias:Parameter containing:\n",
      "tensor([-0.9238], requires_grad=True)\n",
      "Epoch [48/300], Loss: 0.5082, weights:tensor([[0.2254, 0.2673]])  bias:Parameter containing:\n",
      "tensor([-0.9359], requires_grad=True)\n",
      "Epoch [49/300], Loss: 0.5067, weights:tensor([[0.2272, 0.2691]])  bias:Parameter containing:\n",
      "tensor([-0.9480], requires_grad=True)\n",
      "Epoch [50/300], Loss: 0.5051, weights:tensor([[0.2291, 0.2710]])  bias:Parameter containing:\n",
      "tensor([-0.9600], requires_grad=True)\n",
      "Epoch [51/300], Loss: 0.5036, weights:tensor([[0.2309, 0.2729]])  bias:Parameter containing:\n",
      "tensor([-0.9719], requires_grad=True)\n",
      "Epoch [52/300], Loss: 0.5021, weights:tensor([[0.2327, 0.2747]])  bias:Parameter containing:\n",
      "tensor([-0.9839], requires_grad=True)\n",
      "Epoch [53/300], Loss: 0.5006, weights:tensor([[0.2346, 0.2766]])  bias:Parameter containing:\n",
      "tensor([-0.9958], requires_grad=True)\n",
      "Epoch [54/300], Loss: 0.4992, weights:tensor([[0.2364, 0.2784]])  bias:Parameter containing:\n",
      "tensor([-1.0077], requires_grad=True)\n",
      "Epoch [55/300], Loss: 0.4977, weights:tensor([[0.2383, 0.2802]])  bias:Parameter containing:\n",
      "tensor([-1.0195], requires_grad=True)\n",
      "Epoch [56/300], Loss: 0.4962, weights:tensor([[0.2401, 0.2821]])  bias:Parameter containing:\n",
      "tensor([-1.0313], requires_grad=True)\n",
      "Epoch [57/300], Loss: 0.4948, weights:tensor([[0.2419, 0.2839]])  bias:Parameter containing:\n",
      "tensor([-1.0431], requires_grad=True)\n",
      "Epoch [58/300], Loss: 0.4933, weights:tensor([[0.2438, 0.2857]])  bias:Parameter containing:\n",
      "tensor([-1.0548], requires_grad=True)\n",
      "Epoch [59/300], Loss: 0.4919, weights:tensor([[0.2456, 0.2875]])  bias:Parameter containing:\n",
      "tensor([-1.0665], requires_grad=True)\n",
      "Epoch [60/300], Loss: 0.4904, weights:tensor([[0.2474, 0.2893]])  bias:Parameter containing:\n",
      "tensor([-1.0782], requires_grad=True)\n",
      "Epoch [61/300], Loss: 0.4890, weights:tensor([[0.2492, 0.2911]])  bias:Parameter containing:\n",
      "tensor([-1.0898], requires_grad=True)\n",
      "Epoch [62/300], Loss: 0.4876, weights:tensor([[0.2511, 0.2929]])  bias:Parameter containing:\n",
      "tensor([-1.1014], requires_grad=True)\n",
      "Epoch [63/300], Loss: 0.4862, weights:tensor([[0.2529, 0.2946]])  bias:Parameter containing:\n",
      "tensor([-1.1130], requires_grad=True)\n",
      "Epoch [64/300], Loss: 0.4848, weights:tensor([[0.2547, 0.2964]])  bias:Parameter containing:\n",
      "tensor([-1.1246], requires_grad=True)\n",
      "Epoch [65/300], Loss: 0.4834, weights:tensor([[0.2565, 0.2982]])  bias:Parameter containing:\n",
      "tensor([-1.1361], requires_grad=True)\n",
      "Epoch [66/300], Loss: 0.4820, weights:tensor([[0.2583, 0.2999]])  bias:Parameter containing:\n",
      "tensor([-1.1476], requires_grad=True)\n",
      "Epoch [67/300], Loss: 0.4806, weights:tensor([[0.2601, 0.3017]])  bias:Parameter containing:\n",
      "tensor([-1.1590], requires_grad=True)\n",
      "Epoch [68/300], Loss: 0.4792, weights:tensor([[0.2620, 0.3034]])  bias:Parameter containing:\n",
      "tensor([-1.1704], requires_grad=True)\n",
      "Epoch [69/300], Loss: 0.4779, weights:tensor([[0.2638, 0.3052]])  bias:Parameter containing:\n",
      "tensor([-1.1818], requires_grad=True)\n",
      "Epoch [70/300], Loss: 0.4765, weights:tensor([[0.2656, 0.3069]])  bias:Parameter containing:\n",
      "tensor([-1.1932], requires_grad=True)\n",
      "Epoch [71/300], Loss: 0.4752, weights:tensor([[0.2674, 0.3086]])  bias:Parameter containing:\n",
      "tensor([-1.2045], requires_grad=True)\n",
      "Epoch [72/300], Loss: 0.4738, weights:tensor([[0.2692, 0.3103]])  bias:Parameter containing:\n",
      "tensor([-1.2158], requires_grad=True)\n",
      "Epoch [73/300], Loss: 0.4725, weights:tensor([[0.2710, 0.3120]])  bias:Parameter containing:\n",
      "tensor([-1.2270], requires_grad=True)\n",
      "Epoch [74/300], Loss: 0.4712, weights:tensor([[0.2728, 0.3137]])  bias:Parameter containing:\n",
      "tensor([-1.2383], requires_grad=True)\n",
      "Epoch [75/300], Loss: 0.4698, weights:tensor([[0.2746, 0.3154]])  bias:Parameter containing:\n",
      "tensor([-1.2494], requires_grad=True)\n",
      "Epoch [76/300], Loss: 0.4685, weights:tensor([[0.2764, 0.3171]])  bias:Parameter containing:\n",
      "tensor([-1.2606], requires_grad=True)\n",
      "Epoch [77/300], Loss: 0.4672, weights:tensor([[0.2781, 0.3188]])  bias:Parameter containing:\n",
      "tensor([-1.2718], requires_grad=True)\n",
      "Epoch [78/300], Loss: 0.4659, weights:tensor([[0.2799, 0.3205]])  bias:Parameter containing:\n",
      "tensor([-1.2829], requires_grad=True)\n",
      "Epoch [79/300], Loss: 0.4646, weights:tensor([[0.2817, 0.3222]])  bias:Parameter containing:\n",
      "tensor([-1.2939], requires_grad=True)\n",
      "Epoch [80/300], Loss: 0.4634, weights:tensor([[0.2835, 0.3238]])  bias:Parameter containing:\n",
      "tensor([-1.3050], requires_grad=True)\n",
      "Epoch [81/300], Loss: 0.4621, weights:tensor([[0.2853, 0.3255]])  bias:Parameter containing:\n",
      "tensor([-1.3160], requires_grad=True)\n",
      "Epoch [82/300], Loss: 0.4608, weights:tensor([[0.2870, 0.3271]])  bias:Parameter containing:\n",
      "tensor([-1.3270], requires_grad=True)\n",
      "Epoch [83/300], Loss: 0.4595, weights:tensor([[0.2888, 0.3288]])  bias:Parameter containing:\n",
      "tensor([-1.3379], requires_grad=True)\n",
      "Epoch [84/300], Loss: 0.4583, weights:tensor([[0.2906, 0.3304]])  bias:Parameter containing:\n",
      "tensor([-1.3489], requires_grad=True)\n",
      "Epoch [85/300], Loss: 0.4570, weights:tensor([[0.2924, 0.3321]])  bias:Parameter containing:\n",
      "tensor([-1.3598], requires_grad=True)\n",
      "Epoch [86/300], Loss: 0.4558, weights:tensor([[0.2941, 0.3337]])  bias:Parameter containing:\n",
      "tensor([-1.3706], requires_grad=True)\n",
      "Epoch [87/300], Loss: 0.4546, weights:tensor([[0.2959, 0.3353]])  bias:Parameter containing:\n",
      "tensor([-1.3815], requires_grad=True)\n",
      "Epoch [88/300], Loss: 0.4533, weights:tensor([[0.2977, 0.3369]])  bias:Parameter containing:\n",
      "tensor([-1.3923], requires_grad=True)\n",
      "Epoch [89/300], Loss: 0.4521, weights:tensor([[0.2994, 0.3385]])  bias:Parameter containing:\n",
      "tensor([-1.4030], requires_grad=True)\n",
      "Epoch [90/300], Loss: 0.4509, weights:tensor([[0.3012, 0.3402]])  bias:Parameter containing:\n",
      "tensor([-1.4138], requires_grad=True)\n",
      "Epoch [91/300], Loss: 0.4497, weights:tensor([[0.3029, 0.3418]])  bias:Parameter containing:\n",
      "tensor([-1.4245], requires_grad=True)\n",
      "Epoch [92/300], Loss: 0.4485, weights:tensor([[0.3047, 0.3434]])  bias:Parameter containing:\n",
      "tensor([-1.4352], requires_grad=True)\n",
      "Epoch [93/300], Loss: 0.4473, weights:tensor([[0.3064, 0.3449]])  bias:Parameter containing:\n",
      "tensor([-1.4459], requires_grad=True)\n",
      "Epoch [94/300], Loss: 0.4461, weights:tensor([[0.3082, 0.3465]])  bias:Parameter containing:\n",
      "tensor([-1.4565], requires_grad=True)\n",
      "Epoch [95/300], Loss: 0.4449, weights:tensor([[0.3099, 0.3481]])  bias:Parameter containing:\n",
      "tensor([-1.4671], requires_grad=True)\n",
      "Epoch [96/300], Loss: 0.4437, weights:tensor([[0.3117, 0.3497]])  bias:Parameter containing:\n",
      "tensor([-1.4777], requires_grad=True)\n",
      "Epoch [97/300], Loss: 0.4425, weights:tensor([[0.3134, 0.3513]])  bias:Parameter containing:\n",
      "tensor([-1.4882], requires_grad=True)\n",
      "Epoch [98/300], Loss: 0.4414, weights:tensor([[0.3151, 0.3528]])  bias:Parameter containing:\n",
      "tensor([-1.4988], requires_grad=True)\n",
      "Epoch [99/300], Loss: 0.4402, weights:tensor([[0.3169, 0.3544]])  bias:Parameter containing:\n",
      "tensor([-1.5092], requires_grad=True)\n",
      "Epoch [100/300], Loss: 0.4391, weights:tensor([[0.3186, 0.3559]])  bias:Parameter containing:\n",
      "tensor([-1.5197], requires_grad=True)\n",
      "Epoch [101/300], Loss: 0.4379, weights:tensor([[0.3203, 0.3575]])  bias:Parameter containing:\n",
      "tensor([-1.5301], requires_grad=True)\n",
      "Epoch [102/300], Loss: 0.4368, weights:tensor([[0.3220, 0.3590]])  bias:Parameter containing:\n",
      "tensor([-1.5406], requires_grad=True)\n",
      "Epoch [103/300], Loss: 0.4356, weights:tensor([[0.3238, 0.3606]])  bias:Parameter containing:\n",
      "tensor([-1.5509], requires_grad=True)\n",
      "Epoch [104/300], Loss: 0.4345, weights:tensor([[0.3255, 0.3621]])  bias:Parameter containing:\n",
      "tensor([-1.5613], requires_grad=True)\n",
      "Epoch [105/300], Loss: 0.4334, weights:tensor([[0.3272, 0.3636]])  bias:Parameter containing:\n",
      "tensor([-1.5716], requires_grad=True)\n",
      "Epoch [106/300], Loss: 0.4323, weights:tensor([[0.3289, 0.3651]])  bias:Parameter containing:\n",
      "tensor([-1.5819], requires_grad=True)\n",
      "Epoch [107/300], Loss: 0.4312, weights:tensor([[0.3306, 0.3667]])  bias:Parameter containing:\n",
      "tensor([-1.5922], requires_grad=True)\n",
      "Epoch [108/300], Loss: 0.4301, weights:tensor([[0.3323, 0.3682]])  bias:Parameter containing:\n",
      "tensor([-1.6024], requires_grad=True)\n",
      "Epoch [109/300], Loss: 0.4289, weights:tensor([[0.3340, 0.3697]])  bias:Parameter containing:\n",
      "tensor([-1.6127], requires_grad=True)\n",
      "Epoch [110/300], Loss: 0.4279, weights:tensor([[0.3357, 0.3712]])  bias:Parameter containing:\n",
      "tensor([-1.6229], requires_grad=True)\n",
      "Epoch [111/300], Loss: 0.4268, weights:tensor([[0.3374, 0.3727]])  bias:Parameter containing:\n",
      "tensor([-1.6330], requires_grad=True)\n",
      "Epoch [112/300], Loss: 0.4257, weights:tensor([[0.3391, 0.3742]])  bias:Parameter containing:\n",
      "tensor([-1.6432], requires_grad=True)\n",
      "Epoch [113/300], Loss: 0.4246, weights:tensor([[0.3408, 0.3756]])  bias:Parameter containing:\n",
      "tensor([-1.6533], requires_grad=True)\n",
      "Epoch [114/300], Loss: 0.4235, weights:tensor([[0.3425, 0.3771]])  bias:Parameter containing:\n",
      "tensor([-1.6634], requires_grad=True)\n",
      "Epoch [115/300], Loss: 0.4225, weights:tensor([[0.3442, 0.3786]])  bias:Parameter containing:\n",
      "tensor([-1.6734], requires_grad=True)\n",
      "Epoch [116/300], Loss: 0.4214, weights:tensor([[0.3459, 0.3801]])  bias:Parameter containing:\n",
      "tensor([-1.6835], requires_grad=True)\n",
      "Epoch [117/300], Loss: 0.4203, weights:tensor([[0.3476, 0.3815]])  bias:Parameter containing:\n",
      "tensor([-1.6935], requires_grad=True)\n",
      "Epoch [118/300], Loss: 0.4193, weights:tensor([[0.3493, 0.3830]])  bias:Parameter containing:\n",
      "tensor([-1.7035], requires_grad=True)\n",
      "Epoch [119/300], Loss: 0.4183, weights:tensor([[0.3509, 0.3845]])  bias:Parameter containing:\n",
      "tensor([-1.7134], requires_grad=True)\n",
      "Epoch [120/300], Loss: 0.4172, weights:tensor([[0.3526, 0.3859]])  bias:Parameter containing:\n",
      "tensor([-1.7233], requires_grad=True)\n",
      "Epoch [121/300], Loss: 0.4162, weights:tensor([[0.3543, 0.3874]])  bias:Parameter containing:\n",
      "tensor([-1.7333], requires_grad=True)\n",
      "Epoch [122/300], Loss: 0.4151, weights:tensor([[0.3560, 0.3888]])  bias:Parameter containing:\n",
      "tensor([-1.7431], requires_grad=True)\n",
      "Epoch [123/300], Loss: 0.4141, weights:tensor([[0.3576, 0.3903]])  bias:Parameter containing:\n",
      "tensor([-1.7530], requires_grad=True)\n",
      "Epoch [124/300], Loss: 0.4131, weights:tensor([[0.3593, 0.3917]])  bias:Parameter containing:\n",
      "tensor([-1.7628], requires_grad=True)\n",
      "Epoch [125/300], Loss: 0.4121, weights:tensor([[0.3609, 0.3931]])  bias:Parameter containing:\n",
      "tensor([-1.7726], requires_grad=True)\n",
      "Epoch [126/300], Loss: 0.4111, weights:tensor([[0.3626, 0.3946]])  bias:Parameter containing:\n",
      "tensor([-1.7824], requires_grad=True)\n",
      "Epoch [127/300], Loss: 0.4101, weights:tensor([[0.3643, 0.3960]])  bias:Parameter containing:\n",
      "tensor([-1.7922], requires_grad=True)\n",
      "Epoch [128/300], Loss: 0.4091, weights:tensor([[0.3659, 0.3974]])  bias:Parameter containing:\n",
      "tensor([-1.8019], requires_grad=True)\n",
      "Epoch [129/300], Loss: 0.4081, weights:tensor([[0.3676, 0.3988]])  bias:Parameter containing:\n",
      "tensor([-1.8116], requires_grad=True)\n",
      "Epoch [130/300], Loss: 0.4071, weights:tensor([[0.3692, 0.4002]])  bias:Parameter containing:\n",
      "tensor([-1.8213], requires_grad=True)\n",
      "Epoch [131/300], Loss: 0.4061, weights:tensor([[0.3708, 0.4016]])  bias:Parameter containing:\n",
      "tensor([-1.8309], requires_grad=True)\n",
      "Epoch [132/300], Loss: 0.4051, weights:tensor([[0.3725, 0.4030]])  bias:Parameter containing:\n",
      "tensor([-1.8406], requires_grad=True)\n",
      "Epoch [133/300], Loss: 0.4042, weights:tensor([[0.3741, 0.4044]])  bias:Parameter containing:\n",
      "tensor([-1.8502], requires_grad=True)\n",
      "Epoch [134/300], Loss: 0.4032, weights:tensor([[0.3758, 0.4058]])  bias:Parameter containing:\n",
      "tensor([-1.8598], requires_grad=True)\n",
      "Epoch [135/300], Loss: 0.4022, weights:tensor([[0.3774, 0.4072]])  bias:Parameter containing:\n",
      "tensor([-1.8693], requires_grad=True)\n",
      "Epoch [136/300], Loss: 0.4013, weights:tensor([[0.3790, 0.4086]])  bias:Parameter containing:\n",
      "tensor([-1.8789], requires_grad=True)\n",
      "Epoch [137/300], Loss: 0.4003, weights:tensor([[0.3806, 0.4100]])  bias:Parameter containing:\n",
      "tensor([-1.8884], requires_grad=True)\n",
      "Epoch [138/300], Loss: 0.3994, weights:tensor([[0.3823, 0.4113]])  bias:Parameter containing:\n",
      "tensor([-1.8979], requires_grad=True)\n",
      "Epoch [139/300], Loss: 0.3984, weights:tensor([[0.3839, 0.4127]])  bias:Parameter containing:\n",
      "tensor([-1.9073], requires_grad=True)\n",
      "Epoch [140/300], Loss: 0.3975, weights:tensor([[0.3855, 0.4141]])  bias:Parameter containing:\n",
      "tensor([-1.9168], requires_grad=True)\n",
      "Epoch [141/300], Loss: 0.3966, weights:tensor([[0.3871, 0.4154]])  bias:Parameter containing:\n",
      "tensor([-1.9262], requires_grad=True)\n",
      "Epoch [142/300], Loss: 0.3956, weights:tensor([[0.3887, 0.4168]])  bias:Parameter containing:\n",
      "tensor([-1.9356], requires_grad=True)\n",
      "Epoch [143/300], Loss: 0.3947, weights:tensor([[0.3903, 0.4182]])  bias:Parameter containing:\n",
      "tensor([-1.9450], requires_grad=True)\n",
      "Epoch [144/300], Loss: 0.3938, weights:tensor([[0.3919, 0.4195]])  bias:Parameter containing:\n",
      "tensor([-1.9543], requires_grad=True)\n",
      "Epoch [145/300], Loss: 0.3929, weights:tensor([[0.3936, 0.4209]])  bias:Parameter containing:\n",
      "tensor([-1.9636], requires_grad=True)\n",
      "Epoch [146/300], Loss: 0.3919, weights:tensor([[0.3952, 0.4222]])  bias:Parameter containing:\n",
      "tensor([-1.9729], requires_grad=True)\n",
      "Epoch [147/300], Loss: 0.3910, weights:tensor([[0.3967, 0.4235]])  bias:Parameter containing:\n",
      "tensor([-1.9822], requires_grad=True)\n",
      "Epoch [148/300], Loss: 0.3901, weights:tensor([[0.3983, 0.4249]])  bias:Parameter containing:\n",
      "tensor([-1.9915], requires_grad=True)\n",
      "Epoch [149/300], Loss: 0.3892, weights:tensor([[0.3999, 0.4262]])  bias:Parameter containing:\n",
      "tensor([-2.0007], requires_grad=True)\n",
      "Epoch [150/300], Loss: 0.3883, weights:tensor([[0.4015, 0.4275]])  bias:Parameter containing:\n",
      "tensor([-2.0099], requires_grad=True)\n",
      "Epoch [151/300], Loss: 0.3875, weights:tensor([[0.4031, 0.4289]])  bias:Parameter containing:\n",
      "tensor([-2.0191], requires_grad=True)\n",
      "Epoch [152/300], Loss: 0.3866, weights:tensor([[0.4047, 0.4302]])  bias:Parameter containing:\n",
      "tensor([-2.0283], requires_grad=True)\n",
      "Epoch [153/300], Loss: 0.3857, weights:tensor([[0.4063, 0.4315]])  bias:Parameter containing:\n",
      "tensor([-2.0374], requires_grad=True)\n",
      "Epoch [154/300], Loss: 0.3848, weights:tensor([[0.4079, 0.4328]])  bias:Parameter containing:\n",
      "tensor([-2.0465], requires_grad=True)\n",
      "Epoch [155/300], Loss: 0.3839, weights:tensor([[0.4094, 0.4341]])  bias:Parameter containing:\n",
      "tensor([-2.0556], requires_grad=True)\n",
      "Epoch [156/300], Loss: 0.3831, weights:tensor([[0.4110, 0.4354]])  bias:Parameter containing:\n",
      "tensor([-2.0647], requires_grad=True)\n",
      "Epoch [157/300], Loss: 0.3822, weights:tensor([[0.4126, 0.4367]])  bias:Parameter containing:\n",
      "tensor([-2.0738], requires_grad=True)\n",
      "Epoch [158/300], Loss: 0.3813, weights:tensor([[0.4141, 0.4380]])  bias:Parameter containing:\n",
      "tensor([-2.0828], requires_grad=True)\n",
      "Epoch [159/300], Loss: 0.3805, weights:tensor([[0.4157, 0.4393]])  bias:Parameter containing:\n",
      "tensor([-2.0918], requires_grad=True)\n",
      "Epoch [160/300], Loss: 0.3796, weights:tensor([[0.4173, 0.4406]])  bias:Parameter containing:\n",
      "tensor([-2.1008], requires_grad=True)\n",
      "Epoch [161/300], Loss: 0.3788, weights:tensor([[0.4188, 0.4419]])  bias:Parameter containing:\n",
      "tensor([-2.1098], requires_grad=True)\n",
      "Epoch [162/300], Loss: 0.3779, weights:tensor([[0.4204, 0.4432]])  bias:Parameter containing:\n",
      "tensor([-2.1187], requires_grad=True)\n",
      "Epoch [163/300], Loss: 0.3771, weights:tensor([[0.4219, 0.4445]])  bias:Parameter containing:\n",
      "tensor([-2.1276], requires_grad=True)\n",
      "Epoch [164/300], Loss: 0.3763, weights:tensor([[0.4235, 0.4458]])  bias:Parameter containing:\n",
      "tensor([-2.1365], requires_grad=True)\n",
      "Epoch [165/300], Loss: 0.3754, weights:tensor([[0.4250, 0.4470]])  bias:Parameter containing:\n",
      "tensor([-2.1454], requires_grad=True)\n",
      "Epoch [166/300], Loss: 0.3746, weights:tensor([[0.4266, 0.4483]])  bias:Parameter containing:\n",
      "tensor([-2.1543], requires_grad=True)\n",
      "Epoch [167/300], Loss: 0.3738, weights:tensor([[0.4281, 0.4496]])  bias:Parameter containing:\n",
      "tensor([-2.1631], requires_grad=True)\n",
      "Epoch [168/300], Loss: 0.3730, weights:tensor([[0.4296, 0.4508]])  bias:Parameter containing:\n",
      "tensor([-2.1719], requires_grad=True)\n",
      "Epoch [169/300], Loss: 0.3721, weights:tensor([[0.4312, 0.4521]])  bias:Parameter containing:\n",
      "tensor([-2.1807], requires_grad=True)\n",
      "Epoch [170/300], Loss: 0.3713, weights:tensor([[0.4327, 0.4533]])  bias:Parameter containing:\n",
      "tensor([-2.1895], requires_grad=True)\n",
      "Epoch [171/300], Loss: 0.3705, weights:tensor([[0.4342, 0.4546]])  bias:Parameter containing:\n",
      "tensor([-2.1983], requires_grad=True)\n",
      "Epoch [172/300], Loss: 0.3697, weights:tensor([[0.4358, 0.4558]])  bias:Parameter containing:\n",
      "tensor([-2.2070], requires_grad=True)\n",
      "Epoch [173/300], Loss: 0.3689, weights:tensor([[0.4373, 0.4571]])  bias:Parameter containing:\n",
      "tensor([-2.2157], requires_grad=True)\n",
      "Epoch [174/300], Loss: 0.3681, weights:tensor([[0.4388, 0.4583]])  bias:Parameter containing:\n",
      "tensor([-2.2244], requires_grad=True)\n",
      "Epoch [175/300], Loss: 0.3673, weights:tensor([[0.4403, 0.4596]])  bias:Parameter containing:\n",
      "tensor([-2.2331], requires_grad=True)\n",
      "Epoch [176/300], Loss: 0.3665, weights:tensor([[0.4418, 0.4608]])  bias:Parameter containing:\n",
      "tensor([-2.2418], requires_grad=True)\n",
      "Epoch [177/300], Loss: 0.3657, weights:tensor([[0.4434, 0.4620]])  bias:Parameter containing:\n",
      "tensor([-2.2504], requires_grad=True)\n",
      "Epoch [178/300], Loss: 0.3650, weights:tensor([[0.4449, 0.4633]])  bias:Parameter containing:\n",
      "tensor([-2.2590], requires_grad=True)\n",
      "Epoch [179/300], Loss: 0.3642, weights:tensor([[0.4464, 0.4645]])  bias:Parameter containing:\n",
      "tensor([-2.2676], requires_grad=True)\n",
      "Epoch [180/300], Loss: 0.3634, weights:tensor([[0.4479, 0.4657]])  bias:Parameter containing:\n",
      "tensor([-2.2762], requires_grad=True)\n",
      "Epoch [181/300], Loss: 0.3626, weights:tensor([[0.4494, 0.4670]])  bias:Parameter containing:\n",
      "tensor([-2.2847], requires_grad=True)\n",
      "Epoch [182/300], Loss: 0.3619, weights:tensor([[0.4509, 0.4682]])  bias:Parameter containing:\n",
      "tensor([-2.2933], requires_grad=True)\n",
      "Epoch [183/300], Loss: 0.3611, weights:tensor([[0.4524, 0.4694]])  bias:Parameter containing:\n",
      "tensor([-2.3018], requires_grad=True)\n",
      "Epoch [184/300], Loss: 0.3603, weights:tensor([[0.4539, 0.4706]])  bias:Parameter containing:\n",
      "tensor([-2.3103], requires_grad=True)\n",
      "Epoch [185/300], Loss: 0.3596, weights:tensor([[0.4554, 0.4718]])  bias:Parameter containing:\n",
      "tensor([-2.3187], requires_grad=True)\n",
      "Epoch [186/300], Loss: 0.3588, weights:tensor([[0.4568, 0.4730]])  bias:Parameter containing:\n",
      "tensor([-2.3272], requires_grad=True)\n",
      "Epoch [187/300], Loss: 0.3581, weights:tensor([[0.4583, 0.4742]])  bias:Parameter containing:\n",
      "tensor([-2.3356], requires_grad=True)\n",
      "Epoch [188/300], Loss: 0.3573, weights:tensor([[0.4598, 0.4754]])  bias:Parameter containing:\n",
      "tensor([-2.3441], requires_grad=True)\n",
      "Epoch [189/300], Loss: 0.3566, weights:tensor([[0.4613, 0.4766]])  bias:Parameter containing:\n",
      "tensor([-2.3524], requires_grad=True)\n",
      "Epoch [190/300], Loss: 0.3558, weights:tensor([[0.4628, 0.4778]])  bias:Parameter containing:\n",
      "tensor([-2.3608], requires_grad=True)\n",
      "Epoch [191/300], Loss: 0.3551, weights:tensor([[0.4642, 0.4790]])  bias:Parameter containing:\n",
      "tensor([-2.3692], requires_grad=True)\n",
      "Epoch [192/300], Loss: 0.3544, weights:tensor([[0.4657, 0.4802]])  bias:Parameter containing:\n",
      "tensor([-2.3775], requires_grad=True)\n",
      "Epoch [193/300], Loss: 0.3536, weights:tensor([[0.4672, 0.4814]])  bias:Parameter containing:\n",
      "tensor([-2.3859], requires_grad=True)\n",
      "Epoch [194/300], Loss: 0.3529, weights:tensor([[0.4686, 0.4825]])  bias:Parameter containing:\n",
      "tensor([-2.3942], requires_grad=True)\n",
      "Epoch [195/300], Loss: 0.3522, weights:tensor([[0.4701, 0.4837]])  bias:Parameter containing:\n",
      "tensor([-2.4024], requires_grad=True)\n",
      "Epoch [196/300], Loss: 0.3515, weights:tensor([[0.4716, 0.4849]])  bias:Parameter containing:\n",
      "tensor([-2.4107], requires_grad=True)\n",
      "Epoch [197/300], Loss: 0.3508, weights:tensor([[0.4730, 0.4861]])  bias:Parameter containing:\n",
      "tensor([-2.4189], requires_grad=True)\n",
      "Epoch [198/300], Loss: 0.3500, weights:tensor([[0.4745, 0.4872]])  bias:Parameter containing:\n",
      "tensor([-2.4272], requires_grad=True)\n",
      "Epoch [199/300], Loss: 0.3493, weights:tensor([[0.4759, 0.4884]])  bias:Parameter containing:\n",
      "tensor([-2.4354], requires_grad=True)\n",
      "Epoch [200/300], Loss: 0.3486, weights:tensor([[0.4774, 0.4896]])  bias:Parameter containing:\n",
      "tensor([-2.4436], requires_grad=True)\n",
      "Epoch [201/300], Loss: 0.3479, weights:tensor([[0.4788, 0.4907]])  bias:Parameter containing:\n",
      "tensor([-2.4517], requires_grad=True)\n",
      "Epoch [202/300], Loss: 0.3472, weights:tensor([[0.4803, 0.4919]])  bias:Parameter containing:\n",
      "tensor([-2.4599], requires_grad=True)\n",
      "Epoch [203/300], Loss: 0.3465, weights:tensor([[0.4817, 0.4930]])  bias:Parameter containing:\n",
      "tensor([-2.4680], requires_grad=True)\n",
      "Epoch [204/300], Loss: 0.3458, weights:tensor([[0.4831, 0.4942]])  bias:Parameter containing:\n",
      "tensor([-2.4762], requires_grad=True)\n",
      "Epoch [205/300], Loss: 0.3451, weights:tensor([[0.4846, 0.4953]])  bias:Parameter containing:\n",
      "tensor([-2.4843], requires_grad=True)\n",
      "Epoch [206/300], Loss: 0.3444, weights:tensor([[0.4860, 0.4965]])  bias:Parameter containing:\n",
      "tensor([-2.4923], requires_grad=True)\n",
      "Epoch [207/300], Loss: 0.3438, weights:tensor([[0.4874, 0.4976]])  bias:Parameter containing:\n",
      "tensor([-2.5004], requires_grad=True)\n",
      "Epoch [208/300], Loss: 0.3431, weights:tensor([[0.4889, 0.4988]])  bias:Parameter containing:\n",
      "tensor([-2.5084], requires_grad=True)\n",
      "Epoch [209/300], Loss: 0.3424, weights:tensor([[0.4903, 0.4999]])  bias:Parameter containing:\n",
      "tensor([-2.5165], requires_grad=True)\n",
      "Epoch [210/300], Loss: 0.3417, weights:tensor([[0.4917, 0.5010]])  bias:Parameter containing:\n",
      "tensor([-2.5245], requires_grad=True)\n",
      "Epoch [211/300], Loss: 0.3410, weights:tensor([[0.4931, 0.5022]])  bias:Parameter containing:\n",
      "tensor([-2.5325], requires_grad=True)\n",
      "Epoch [212/300], Loss: 0.3404, weights:tensor([[0.4946, 0.5033]])  bias:Parameter containing:\n",
      "tensor([-2.5405], requires_grad=True)\n",
      "Epoch [213/300], Loss: 0.3397, weights:tensor([[0.4960, 0.5044]])  bias:Parameter containing:\n",
      "tensor([-2.5484], requires_grad=True)\n",
      "Epoch [214/300], Loss: 0.3390, weights:tensor([[0.4974, 0.5056]])  bias:Parameter containing:\n",
      "tensor([-2.5564], requires_grad=True)\n",
      "Epoch [215/300], Loss: 0.3384, weights:tensor([[0.4988, 0.5067]])  bias:Parameter containing:\n",
      "tensor([-2.5643], requires_grad=True)\n",
      "Epoch [216/300], Loss: 0.3377, weights:tensor([[0.5002, 0.5078]])  bias:Parameter containing:\n",
      "tensor([-2.5722], requires_grad=True)\n",
      "Epoch [217/300], Loss: 0.3371, weights:tensor([[0.5016, 0.5089]])  bias:Parameter containing:\n",
      "tensor([-2.5801], requires_grad=True)\n",
      "Epoch [218/300], Loss: 0.3364, weights:tensor([[0.5030, 0.5100]])  bias:Parameter containing:\n",
      "tensor([-2.5879], requires_grad=True)\n",
      "Epoch [219/300], Loss: 0.3358, weights:tensor([[0.5044, 0.5111]])  bias:Parameter containing:\n",
      "tensor([-2.5958], requires_grad=True)\n",
      "Epoch [220/300], Loss: 0.3351, weights:tensor([[0.5058, 0.5122]])  bias:Parameter containing:\n",
      "tensor([-2.6036], requires_grad=True)\n",
      "Epoch [221/300], Loss: 0.3345, weights:tensor([[0.5072, 0.5134]])  bias:Parameter containing:\n",
      "tensor([-2.6115], requires_grad=True)\n",
      "Epoch [222/300], Loss: 0.3338, weights:tensor([[0.5086, 0.5145]])  bias:Parameter containing:\n",
      "tensor([-2.6193], requires_grad=True)\n",
      "Epoch [223/300], Loss: 0.3332, weights:tensor([[0.5100, 0.5156]])  bias:Parameter containing:\n",
      "tensor([-2.6270], requires_grad=True)\n",
      "Epoch [224/300], Loss: 0.3325, weights:tensor([[0.5114, 0.5167]])  bias:Parameter containing:\n",
      "tensor([-2.6348], requires_grad=True)\n",
      "Epoch [225/300], Loss: 0.3319, weights:tensor([[0.5127, 0.5178]])  bias:Parameter containing:\n",
      "tensor([-2.6426], requires_grad=True)\n",
      "Epoch [226/300], Loss: 0.3313, weights:tensor([[0.5141, 0.5189]])  bias:Parameter containing:\n",
      "tensor([-2.6503], requires_grad=True)\n",
      "Epoch [227/300], Loss: 0.3306, weights:tensor([[0.5155, 0.5199]])  bias:Parameter containing:\n",
      "tensor([-2.6580], requires_grad=True)\n",
      "Epoch [228/300], Loss: 0.3300, weights:tensor([[0.5169, 0.5210]])  bias:Parameter containing:\n",
      "tensor([-2.6657], requires_grad=True)\n",
      "Epoch [229/300], Loss: 0.3294, weights:tensor([[0.5183, 0.5221]])  bias:Parameter containing:\n",
      "tensor([-2.6734], requires_grad=True)\n",
      "Epoch [230/300], Loss: 0.3288, weights:tensor([[0.5196, 0.5232]])  bias:Parameter containing:\n",
      "tensor([-2.6811], requires_grad=True)\n",
      "Epoch [231/300], Loss: 0.3282, weights:tensor([[0.5210, 0.5243]])  bias:Parameter containing:\n",
      "tensor([-2.6887], requires_grad=True)\n",
      "Epoch [232/300], Loss: 0.3275, weights:tensor([[0.5224, 0.5254]])  bias:Parameter containing:\n",
      "tensor([-2.6964], requires_grad=True)\n",
      "Epoch [233/300], Loss: 0.3269, weights:tensor([[0.5237, 0.5264]])  bias:Parameter containing:\n",
      "tensor([-2.7040], requires_grad=True)\n",
      "Epoch [234/300], Loss: 0.3263, weights:tensor([[0.5251, 0.5275]])  bias:Parameter containing:\n",
      "tensor([-2.7116], requires_grad=True)\n",
      "Epoch [235/300], Loss: 0.3257, weights:tensor([[0.5264, 0.5286]])  bias:Parameter containing:\n",
      "tensor([-2.7192], requires_grad=True)\n",
      "Epoch [236/300], Loss: 0.3251, weights:tensor([[0.5278, 0.5297]])  bias:Parameter containing:\n",
      "tensor([-2.7268], requires_grad=True)\n",
      "Epoch [237/300], Loss: 0.3245, weights:tensor([[0.5291, 0.5307]])  bias:Parameter containing:\n",
      "tensor([-2.7343], requires_grad=True)\n",
      "Epoch [238/300], Loss: 0.3239, weights:tensor([[0.5305, 0.5318]])  bias:Parameter containing:\n",
      "tensor([-2.7419], requires_grad=True)\n",
      "Epoch [239/300], Loss: 0.3233, weights:tensor([[0.5318, 0.5328]])  bias:Parameter containing:\n",
      "tensor([-2.7494], requires_grad=True)\n",
      "Epoch [240/300], Loss: 0.3227, weights:tensor([[0.5332, 0.5339]])  bias:Parameter containing:\n",
      "tensor([-2.7569], requires_grad=True)\n",
      "Epoch [241/300], Loss: 0.3221, weights:tensor([[0.5345, 0.5350]])  bias:Parameter containing:\n",
      "tensor([-2.7644], requires_grad=True)\n",
      "Epoch [242/300], Loss: 0.3215, weights:tensor([[0.5359, 0.5360]])  bias:Parameter containing:\n",
      "tensor([-2.7719], requires_grad=True)\n",
      "Epoch [243/300], Loss: 0.3209, weights:tensor([[0.5372, 0.5371]])  bias:Parameter containing:\n",
      "tensor([-2.7793], requires_grad=True)\n",
      "Epoch [244/300], Loss: 0.3204, weights:tensor([[0.5386, 0.5381]])  bias:Parameter containing:\n",
      "tensor([-2.7868], requires_grad=True)\n",
      "Epoch [245/300], Loss: 0.3198, weights:tensor([[0.5399, 0.5392]])  bias:Parameter containing:\n",
      "tensor([-2.7942], requires_grad=True)\n",
      "Epoch [246/300], Loss: 0.3192, weights:tensor([[0.5412, 0.5402]])  bias:Parameter containing:\n",
      "tensor([-2.8016], requires_grad=True)\n",
      "Epoch [247/300], Loss: 0.3186, weights:tensor([[0.5425, 0.5413]])  bias:Parameter containing:\n",
      "tensor([-2.8090], requires_grad=True)\n",
      "Epoch [248/300], Loss: 0.3180, weights:tensor([[0.5439, 0.5423]])  bias:Parameter containing:\n",
      "tensor([-2.8164], requires_grad=True)\n",
      "Epoch [249/300], Loss: 0.3175, weights:tensor([[0.5452, 0.5433]])  bias:Parameter containing:\n",
      "tensor([-2.8238], requires_grad=True)\n",
      "Epoch [250/300], Loss: 0.3169, weights:tensor([[0.5465, 0.5444]])  bias:Parameter containing:\n",
      "tensor([-2.8312], requires_grad=True)\n",
      "Epoch [251/300], Loss: 0.3163, weights:tensor([[0.5478, 0.5454]])  bias:Parameter containing:\n",
      "tensor([-2.8385], requires_grad=True)\n",
      "Epoch [252/300], Loss: 0.3158, weights:tensor([[0.5492, 0.5465]])  bias:Parameter containing:\n",
      "tensor([-2.8458], requires_grad=True)\n",
      "Epoch [253/300], Loss: 0.3152, weights:tensor([[0.5505, 0.5475]])  bias:Parameter containing:\n",
      "tensor([-2.8531], requires_grad=True)\n",
      "Epoch [254/300], Loss: 0.3146, weights:tensor([[0.5518, 0.5485]])  bias:Parameter containing:\n",
      "tensor([-2.8604], requires_grad=True)\n",
      "Epoch [255/300], Loss: 0.3141, weights:tensor([[0.5531, 0.5495]])  bias:Parameter containing:\n",
      "tensor([-2.8677], requires_grad=True)\n",
      "Epoch [256/300], Loss: 0.3135, weights:tensor([[0.5544, 0.5506]])  bias:Parameter containing:\n",
      "tensor([-2.8750], requires_grad=True)\n",
      "Epoch [257/300], Loss: 0.3130, weights:tensor([[0.5557, 0.5516]])  bias:Parameter containing:\n",
      "tensor([-2.8822], requires_grad=True)\n",
      "Epoch [258/300], Loss: 0.3124, weights:tensor([[0.5570, 0.5526]])  bias:Parameter containing:\n",
      "tensor([-2.8895], requires_grad=True)\n",
      "Epoch [259/300], Loss: 0.3119, weights:tensor([[0.5583, 0.5536]])  bias:Parameter containing:\n",
      "tensor([-2.8967], requires_grad=True)\n",
      "Epoch [260/300], Loss: 0.3113, weights:tensor([[0.5596, 0.5546]])  bias:Parameter containing:\n",
      "tensor([-2.9039], requires_grad=True)\n",
      "Epoch [261/300], Loss: 0.3108, weights:tensor([[0.5609, 0.5557]])  bias:Parameter containing:\n",
      "tensor([-2.9111], requires_grad=True)\n",
      "Epoch [262/300], Loss: 0.3102, weights:tensor([[0.5622, 0.5567]])  bias:Parameter containing:\n",
      "tensor([-2.9183], requires_grad=True)\n",
      "Epoch [263/300], Loss: 0.3097, weights:tensor([[0.5635, 0.5577]])  bias:Parameter containing:\n",
      "tensor([-2.9254], requires_grad=True)\n",
      "Epoch [264/300], Loss: 0.3091, weights:tensor([[0.5648, 0.5587]])  bias:Parameter containing:\n",
      "tensor([-2.9326], requires_grad=True)\n",
      "Epoch [265/300], Loss: 0.3086, weights:tensor([[0.5660, 0.5597]])  bias:Parameter containing:\n",
      "tensor([-2.9397], requires_grad=True)\n",
      "Epoch [266/300], Loss: 0.3081, weights:tensor([[0.5673, 0.5607]])  bias:Parameter containing:\n",
      "tensor([-2.9468], requires_grad=True)\n",
      "Epoch [267/300], Loss: 0.3075, weights:tensor([[0.5686, 0.5617]])  bias:Parameter containing:\n",
      "tensor([-2.9539], requires_grad=True)\n",
      "Epoch [268/300], Loss: 0.3070, weights:tensor([[0.5699, 0.5627]])  bias:Parameter containing:\n",
      "tensor([-2.9610], requires_grad=True)\n",
      "Epoch [269/300], Loss: 0.3065, weights:tensor([[0.5712, 0.5637]])  bias:Parameter containing:\n",
      "tensor([-2.9681], requires_grad=True)\n",
      "Epoch [270/300], Loss: 0.3059, weights:tensor([[0.5724, 0.5647]])  bias:Parameter containing:\n",
      "tensor([-2.9752], requires_grad=True)\n",
      "Epoch [271/300], Loss: 0.3054, weights:tensor([[0.5737, 0.5657]])  bias:Parameter containing:\n",
      "tensor([-2.9822], requires_grad=True)\n",
      "Epoch [272/300], Loss: 0.3049, weights:tensor([[0.5750, 0.5667]])  bias:Parameter containing:\n",
      "tensor([-2.9893], requires_grad=True)\n",
      "Epoch [273/300], Loss: 0.3044, weights:tensor([[0.5762, 0.5677]])  bias:Parameter containing:\n",
      "tensor([-2.9963], requires_grad=True)\n",
      "Epoch [274/300], Loss: 0.3039, weights:tensor([[0.5775, 0.5686]])  bias:Parameter containing:\n",
      "tensor([-3.0033], requires_grad=True)\n",
      "Epoch [275/300], Loss: 0.3033, weights:tensor([[0.5788, 0.5696]])  bias:Parameter containing:\n",
      "tensor([-3.0103], requires_grad=True)\n",
      "Epoch [276/300], Loss: 0.3028, weights:tensor([[0.5800, 0.5706]])  bias:Parameter containing:\n",
      "tensor([-3.0173], requires_grad=True)\n",
      "Epoch [277/300], Loss: 0.3023, weights:tensor([[0.5813, 0.5716]])  bias:Parameter containing:\n",
      "tensor([-3.0242], requires_grad=True)\n",
      "Epoch [278/300], Loss: 0.3018, weights:tensor([[0.5825, 0.5726]])  bias:Parameter containing:\n",
      "tensor([-3.0312], requires_grad=True)\n",
      "Epoch [279/300], Loss: 0.3013, weights:tensor([[0.5838, 0.5735]])  bias:Parameter containing:\n",
      "tensor([-3.0381], requires_grad=True)\n",
      "Epoch [280/300], Loss: 0.3008, weights:tensor([[0.5851, 0.5745]])  bias:Parameter containing:\n",
      "tensor([-3.0451], requires_grad=True)\n",
      "Epoch [281/300], Loss: 0.3003, weights:tensor([[0.5863, 0.5755]])  bias:Parameter containing:\n",
      "tensor([-3.0520], requires_grad=True)\n",
      "Epoch [282/300], Loss: 0.2998, weights:tensor([[0.5875, 0.5765]])  bias:Parameter containing:\n",
      "tensor([-3.0589], requires_grad=True)\n",
      "Epoch [283/300], Loss: 0.2993, weights:tensor([[0.5888, 0.5774]])  bias:Parameter containing:\n",
      "tensor([-3.0658], requires_grad=True)\n",
      "Epoch [284/300], Loss: 0.2988, weights:tensor([[0.5900, 0.5784]])  bias:Parameter containing:\n",
      "tensor([-3.0726], requires_grad=True)\n",
      "Epoch [285/300], Loss: 0.2983, weights:tensor([[0.5913, 0.5794]])  bias:Parameter containing:\n",
      "tensor([-3.0795], requires_grad=True)\n",
      "Epoch [286/300], Loss: 0.2978, weights:tensor([[0.5925, 0.5803]])  bias:Parameter containing:\n",
      "tensor([-3.0864], requires_grad=True)\n",
      "Epoch [287/300], Loss: 0.2973, weights:tensor([[0.5938, 0.5813]])  bias:Parameter containing:\n",
      "tensor([-3.0932], requires_grad=True)\n",
      "Epoch [288/300], Loss: 0.2968, weights:tensor([[0.5950, 0.5823]])  bias:Parameter containing:\n",
      "tensor([-3.1000], requires_grad=True)\n",
      "Epoch [289/300], Loss: 0.2963, weights:tensor([[0.5962, 0.5832]])  bias:Parameter containing:\n",
      "tensor([-3.1068], requires_grad=True)\n",
      "Epoch [290/300], Loss: 0.2958, weights:tensor([[0.5974, 0.5842]])  bias:Parameter containing:\n",
      "tensor([-3.1136], requires_grad=True)\n",
      "Epoch [291/300], Loss: 0.2953, weights:tensor([[0.5987, 0.5851]])  bias:Parameter containing:\n",
      "tensor([-3.1204], requires_grad=True)\n",
      "Epoch [292/300], Loss: 0.2949, weights:tensor([[0.5999, 0.5861]])  bias:Parameter containing:\n",
      "tensor([-3.1272], requires_grad=True)\n",
      "Epoch [293/300], Loss: 0.2944, weights:tensor([[0.6011, 0.5870]])  bias:Parameter containing:\n",
      "tensor([-3.1339], requires_grad=True)\n",
      "Epoch [294/300], Loss: 0.2939, weights:tensor([[0.6023, 0.5880]])  bias:Parameter containing:\n",
      "tensor([-3.1407], requires_grad=True)\n",
      "Epoch [295/300], Loss: 0.2934, weights:tensor([[0.6036, 0.5889]])  bias:Parameter containing:\n",
      "tensor([-3.1474], requires_grad=True)\n",
      "Epoch [296/300], Loss: 0.2929, weights:tensor([[0.6048, 0.5899]])  bias:Parameter containing:\n",
      "tensor([-3.1541], requires_grad=True)\n",
      "Epoch [297/300], Loss: 0.2925, weights:tensor([[0.6060, 0.5908]])  bias:Parameter containing:\n",
      "tensor([-3.1608], requires_grad=True)\n",
      "Epoch [298/300], Loss: 0.2920, weights:tensor([[0.6072, 0.5917]])  bias:Parameter containing:\n",
      "tensor([-3.1675], requires_grad=True)\n",
      "Epoch [299/300], Loss: 0.2915, weights:tensor([[0.6084, 0.5927]])  bias:Parameter containing:\n",
      "tensor([-3.1742], requires_grad=True)\n",
      "Epoch [300/300], Loss: 0.2911, weights:tensor([[0.6096, 0.5936]])  bias:Parameter containing:\n",
      "tensor([-3.1808], requires_grad=True)\n",
      "Epoch [1/300], Loss: 0.2906, weights:tensor([[0.6108, 0.5946]])  bias:Parameter containing:\n",
      "tensor([-3.1875], requires_grad=True)\n"
     ]
    },
    {
     "data": {
      "text/plain": "<Figure size 640x480 with 1 Axes>",
      "image/png": "[encoded data removed]"
     },
     "metadata": {},
     "output_type": "display_data"
    }
   ],
   "source": [
    "import torch.optim as optim\n",
    "from matplotlib.animation import FuncAnimation\n",
    "from IPython.display import HTML\n",
    "\n",
    "# Define the loss function and optimizer\n",
    "criterion = nn.BCELoss()  # Binary Cross Entropy Loss for binary classification\n",
    "optimizer = optim.SGD(model.parameters(), lr=0.1)  # Stochastic Gradient Descent\n",
    "\n",
    "data_tensor = torch.tensor(features, dtype=torch.float32)\n",
    "label_tensor = torch.tensor(labels, dtype=torch.float32)\n",
    "\n",
    "fig, ax = plt.subplots()\n",
    "x_range = np.linspace(1, 5, 100)\n",
    "\n",
    "def update(epoch):\n",
    "    ax.clear()\n",
    "    # Forward pass\n",
    "    outputs = model(data_tensor)\n",
    "    loss = criterion(outputs, label_tensor)\n",
    "    \n",
    "    # Backward pass and optimization\n",
    "    optimizer.zero_grad()\n",
    "    loss.backward()\n",
    "    optimizer.step()\n",
    "    \n",
    "    if True:#(epoch + 1) % 100 == 0:\n",
    "        print(f'Epoch [{epoch+1}/{num_epochs}], Loss: {loss.item():.4f}, weights:{str(model.fc.weight.data)}  bias:{str(model.fc.bias)}')\n",
    "        for i in range(len(features)):\n",
    "            if labels[i] == 0:\n",
    "                ax.scatter(features[i, 0], features[i, 1], c='red', label='Spam' if i == 0 else \"\")\n",
    "            else:\n",
    "                ax.scatter(features[i, 0], features[i, 1], c='blue', label='Not Spam' if i == 1 else \"\")\n",
    "        \n",
    "        # Get weights and bias\n",
    "        with torch.no_grad():\n",
    "            weights = model.fc.weight.data.numpy()\n",
    "            bias = model.fc.bias.data.numpy()\n",
    "    \n",
    "        # Calculate decision boundary line\n",
    "        y_range = -(weights[0, 0] * x_range + bias) / weights[0, 1]\n",
    "        ax.plot(x_range, y_range, 'k--', label='Decision Boundary')\n",
    "    \n",
    "        # Set plot limits and labels\n",
    "        ax.set_xlim(1, 5)\n",
    "        ax.set_ylim(1, 5)\n",
    "        ax.set_xlabel('Freq. of \"free\"')\n",
    "        ax.set_ylabel('Email Length')\n",
    "        ax.set_title(f'Epoch {epoch+1}/{num_epochs}')\n",
    "        ax.legend(loc='best')\n",
    "        ax.grid(True)\n",
    "\n",
    "# Training loop\n",
    "num_epochs = 300\n",
    "ani = FuncAnimation(fig, update, frames=num_epochs, repeat=False)\n",
    "# Display the animation inline\n",
    "\n",
    "with open('output.html', 'w') as file:\n",
    "    file.write(HTML(ani.to_jshtml()).data)"
   ],
   "metadata": {
    "collapsed": false,
    "ExecuteTime": {
     "end_time": "2024-07-24T15:34:34.976362Z",
     "start_time": "2024-07-24T15:32:43.449335Z"
    }
   },
   "execution_count": 231
  },
  {
   "cell_type": "code",
   "outputs": [
    {
     "name": "stdout",
     "output_type": "stream",
     "text": [
      "tensor([[0.6108, 0.5946]])\n",
      "Parameter containing:\n",
      "tensor([-3.1875], requires_grad=True)\n"
     ]
    }
   ],
   "source": [
    "print(model.fc.weight.data)\n",
    "print(model.fc.bias)"
   ],
   "metadata": {
    "collapsed": false,
    "ExecuteTime": {
     "end_time": "2024-07-24T15:34:34.980407Z",
     "start_time": "2024-07-24T15:34:34.977414Z"
    }
   },
   "execution_count": 232
  },
  {
   "cell_type": "markdown",
   "source": [
    "### Save model"
   ],
   "metadata": {
    "collapsed": false
   }
  },
  {
   "cell_type": "code",
   "outputs": [],
   "source": [
    "torch.save(model.state_dict(), \"perceptron.pt\")"
   ],
   "metadata": {
    "collapsed": false,
    "ExecuteTime": {
     "end_time": "2024-07-24T15:34:34.987381Z",
     "start_time": "2024-07-24T15:34:34.981030Z"
    }
   },
   "execution_count": 233
  },
  {
   "cell_type": "markdown",
   "source": [
    "### Use Pretrained model"
   ],
   "metadata": {
    "collapsed": false
   }
  },
  {
   "cell_type": "code",
   "outputs": [
    {
     "data": {
      "text/plain": "Perceptron(\n  (fc): Linear(in_features=2, out_features=1, bias=True)\n)"
     },
     "execution_count": 234,
     "metadata": {},
     "output_type": "execute_result"
    }
   ],
   "source": [
    "model = Perceptron()\n",
    "model.load_state_dict(torch.load(\"perceptron.pt\"))\n",
    "model.eval()"
   ],
   "metadata": {
    "collapsed": false,
    "ExecuteTime": {
     "end_time": "2024-07-24T15:34:34.994976Z",
     "start_time": "2024-07-24T15:34:34.988857Z"
    }
   },
   "execution_count": 234
  },
  {
   "cell_type": "code",
   "outputs": [
    {
     "name": "stdout",
     "output_type": "stream",
     "text": [
      "tensor([[0.6108, 0.5946]])\n",
      "Parameter containing:\n",
      "tensor([-3.1875], requires_grad=True)\n"
     ]
    }
   ],
   "source": [
    "print(model.fc.weight.data)\n",
    "print(model.fc.bias)"
   ],
   "metadata": {
    "collapsed": false,
    "ExecuteTime": {
     "end_time": "2024-07-24T15:34:34.998066Z",
     "start_time": "2024-07-24T15:34:34.995704Z"
    }
   },
   "execution_count": 235
  },
  {
   "cell_type": "markdown",
   "source": [
    "### Inference"
   ],
   "metadata": {
    "collapsed": false
   }
  },
  {
   "cell_type": "code",
   "outputs": [
    {
     "data": {
      "text/plain": "tensor([0.5328], grad_fn=<SigmoidBackward0>)"
     },
     "execution_count": 236,
     "metadata": {},
     "output_type": "execute_result"
    }
   ],
   "source": [
    "model(torch.tensor([3.0, 2.5]))"
   ],
   "metadata": {
    "collapsed": false,
    "ExecuteTime": {
     "end_time": "2024-07-24T15:34:35.001697Z",
     "start_time": "2024-07-24T15:34:34.998821Z"
    }
   },
   "execution_count": 236
  },
  {
   "cell_type": "markdown",
   "source": [
    "## Next Word Predictor with Neural Network\n",
    "Prompt: `give Feedforward Neural Networks example as next word predictor in torch`"
   ],
   "metadata": {
    "collapsed": false
   }
  },
  {
   "cell_type": "markdown",
   "source": [
    "![image](./assets/llm_in_action_101_word_predictor.png)"
   ],
   "metadata": {
    "collapsed": false
   }
  },
  {
   "cell_type": "markdown",
   "source": [
    "### 1. Import Required Libraries"
   ],
   "metadata": {
    "collapsed": false
   }
  },
  {
   "cell_type": "code",
   "outputs": [],
   "source": [
    "import torch\n",
    "import torch.nn as nn\n",
    "import torch.optim as optim\n",
    "import torch.nn.functional as F\n",
    "from torch.utils.data import DataLoader, Dataset\n",
    "import numpy as np\n"
   ],
   "metadata": {
    "collapsed": false,
    "ExecuteTime": {
     "end_time": "2024-07-24T15:34:35.004622Z",
     "start_time": "2024-07-24T15:34:35.002379Z"
    }
   },
   "execution_count": 237
  },
  {
   "cell_type": "markdown",
   "source": [
    "### 2. Prepare the Data"
   ],
   "metadata": {
    "collapsed": false
   }
  },
  {
   "cell_type": "code",
   "outputs": [],
   "source": [
    "# Example sentences\n",
    "sentences = [\n",
    "    \"I like machine learning\",\n",
    "    \"I love deep learning\",\n",
    "    \"I enjoy studying data science\"\n",
    "]\n",
    "\n",
    "# Build vocabulary\n",
    "vocab = set(\" \".join(sentences).split())\n",
    "word2idx = {word: i for i, word in enumerate(vocab)}\n",
    "idx2word = {i: word for word, i in word2idx.items()}"
   ],
   "metadata": {
    "collapsed": false,
    "ExecuteTime": {
     "end_time": "2024-07-24T15:34:35.011183Z",
     "start_time": "2024-07-24T15:34:35.005339Z"
    }
   },
   "execution_count": 238
  },
  {
   "cell_type": "code",
   "outputs": [
    {
     "name": "stdout",
     "output_type": "stream",
     "text": [
      "{'science', 'learning', 'machine', 'like', 'deep', 'I', 'enjoy', 'data', 'love', 'studying'}\n",
      "{'science': 0, 'learning': 1, 'machine': 2, 'like': 3, 'deep': 4, 'I': 5, 'enjoy': 6, 'data': 7, 'love': 8, 'studying': 9}\n"
     ]
    }
   ],
   "source": [
    "print(vocab)\n",
    "print(word2idx)"
   ],
   "metadata": {
    "collapsed": false,
    "ExecuteTime": {
     "end_time": "2024-07-24T15:34:35.013616Z",
     "start_time": "2024-07-24T15:34:35.011947Z"
    }
   },
   "execution_count": 239
  },
  {
   "cell_type": "code",
   "outputs": [],
   "source": [
    "# Hyperparameters\n",
    "sequence_length = 3\n",
    "embedding_dim = 10\n",
    "hidden_dim = 20\n",
    "vocab_size = len(vocab)\n",
    "batch_size = 2\n",
    "num_epochs = 100\n",
    "\n",
    "# Create training data\n",
    "def make_data(sentences):\n",
    "    inputs, targets = [], []\n",
    "    for sentence in sentences:\n",
    "        words = sentence.split()\n",
    "        for i in range(len(words) - sequence_length):\n",
    "            inputs.append([word2idx[words[j]] for j in range(i, i+sequence_length)])\n",
    "            targets.append(word2idx[words[i+sequence_length]])\n",
    "    return inputs, targets\n",
    "\n",
    "inputs, targets = make_data(sentences)\n",
    "inputs = torch.tensor(inputs)\n",
    "targets = torch.tensor(targets)"
   ],
   "metadata": {
    "collapsed": false,
    "ExecuteTime": {
     "end_time": "2024-07-24T15:34:35.019392Z",
     "start_time": "2024-07-24T15:34:35.015875Z"
    }
   },
   "execution_count": 240
  },
  {
   "cell_type": "markdown",
   "source": [
    "### 3. Define the Dataset and DataLoader"
   ],
   "metadata": {
    "collapsed": false
   }
  },
  {
   "cell_type": "code",
   "outputs": [],
   "source": [
    "class WordDataset(Dataset):\n",
    "    def __init__(self, inputs, targets):\n",
    "        self.inputs = inputs\n",
    "        self.targets = targets\n",
    "\n",
    "    def __len__(self):\n",
    "        return len(self.inputs)\n",
    "\n",
    "    def __getitem__(self, idx):\n",
    "        return self.inputs[idx], self.targets[idx]\n",
    "\n",
    "dataset = WordDataset(inputs, targets)\n",
    "dataloader = DataLoader(dataset, batch_size=batch_size, shuffle=True)\n"
   ],
   "metadata": {
    "collapsed": false,
    "ExecuteTime": {
     "end_time": "2024-07-24T15:34:35.023800Z",
     "start_time": "2024-07-24T15:34:35.020114Z"
    }
   },
   "execution_count": 241
  },
  {
   "cell_type": "markdown",
   "source": [
    "### 4. Define the Feedforward Neural Network Model"
   ],
   "metadata": {
    "collapsed": false
   }
  },
  {
   "cell_type": "code",
   "outputs": [],
   "source": [
    "class FeedforwardNN(nn.Module):\n",
    "    def __init__(self, vocab_size, embedding_dim, hidden_dim):\n",
    "        super(FeedforwardNN, self).__init__()\n",
    "        self.embedding = nn.Embedding(vocab_size, embedding_dim)\n",
    "        self.fc1 = nn.Linear(sequence_length * embedding_dim, hidden_dim)\n",
    "        self.fc2 = nn.Linear(hidden_dim, vocab_size)\n",
    "\n",
    "    def forward(self, x):\n",
    "        x = self.embedding(x)\n",
    "        x = x.view(x.size(0), -1)\n",
    "        x = F.relu(self.fc1(x))\n",
    "        x = self.fc2(x)\n",
    "        return x\n",
    "\n",
    "model = FeedforwardNN(vocab_size, embedding_dim, hidden_dim)"
   ],
   "metadata": {
    "collapsed": false,
    "ExecuteTime": {
     "end_time": "2024-07-24T15:34:35.034724Z",
     "start_time": "2024-07-24T15:34:35.024638Z"
    }
   },
   "execution_count": 242
  },
  {
   "cell_type": "code",
   "outputs": [
    {
     "data": {
      "text/plain": "Embedding(10, 10)"
     },
     "execution_count": 243,
     "metadata": {},
     "output_type": "execute_result"
    }
   ],
   "source": [
    "model.embedding"
   ],
   "metadata": {
    "collapsed": false,
    "ExecuteTime": {
     "end_time": "2024-07-24T15:34:35.040639Z",
     "start_time": "2024-07-24T15:34:35.035570Z"
    }
   },
   "execution_count": 243
  },
  {
   "cell_type": "markdown",
   "source": [
    "### 5. Define Loss Function and Optimizer"
   ],
   "metadata": {
    "collapsed": false
   }
  },
  {
   "cell_type": "code",
   "outputs": [],
   "source": [
    "criterion = nn.CrossEntropyLoss()\n",
    "optimizer = optim.Adam(model.parameters(), lr=0.001)"
   ],
   "metadata": {
    "collapsed": false,
    "ExecuteTime": {
     "end_time": "2024-07-24T15:34:35.044212Z",
     "start_time": "2024-07-24T15:34:35.041779Z"
    }
   },
   "execution_count": 244
  },
  {
   "cell_type": "markdown",
   "source": [
    "### 6. Train the Model\n"
   ],
   "metadata": {
    "collapsed": false
   }
  },
  {
   "cell_type": "code",
   "outputs": [
    {
     "name": "stdout",
     "output_type": "stream",
     "text": [
      "Epoch [10/100], Loss: 1.9818\n",
      "Epoch [20/100], Loss: 1.8720\n",
      "Epoch [30/100], Loss: 1.6155\n",
      "Epoch [40/100], Loss: 0.8123\n",
      "Epoch [50/100], Loss: 0.9176\n",
      "Epoch [60/100], Loss: 0.3144\n",
      "Epoch [70/100], Loss: 0.1671\n",
      "Epoch [80/100], Loss: 0.1130\n",
      "Epoch [90/100], Loss: 0.1822\n",
      "Epoch [100/100], Loss: 0.1213\n"
     ]
    }
   ],
   "source": [
    "for epoch in range(num_epochs):\n",
    "    for batch_inputs, batch_targets in dataloader:\n",
    "        outputs = model(batch_inputs)\n",
    "        loss = criterion(outputs, batch_targets)\n",
    "\n",
    "        optimizer.zero_grad()\n",
    "        loss.backward()\n",
    "        optimizer.step()\n",
    "\n",
    "    if (epoch + 1) % 10 == 0:\n",
    "        print(f'Epoch [{epoch + 1}/{num_epochs}], Loss: {loss.item():.4f}')\n"
   ],
   "metadata": {
    "collapsed": false,
    "ExecuteTime": {
     "end_time": "2024-07-24T15:34:35.137329Z",
     "start_time": "2024-07-24T15:34:35.044990Z"
    }
   },
   "execution_count": 245
  },
  {
   "cell_type": "markdown",
   "source": [
    "### 7. Test the Model"
   ],
   "metadata": {
    "collapsed": false
   }
  },
  {
   "cell_type": "code",
   "outputs": [
    {
     "name": "stdout",
     "output_type": "stream",
     "text": [
      "{'science', 'learning', 'machine', 'like', 'deep', 'I', 'enjoy', 'data', 'love', 'studying'}\n",
      "{'science': 0, 'learning': 1, 'machine': 2, 'like': 3, 'deep': 4, 'I': 5, 'enjoy': 6, 'data': 7, 'love': 8, 'studying': 9}\n"
     ]
    }
   ],
   "source": [
    "print(vocab)\n",
    "print(word2idx)"
   ],
   "metadata": {
    "collapsed": false,
    "ExecuteTime": {
     "end_time": "2024-07-24T15:34:35.140191Z",
     "start_time": "2024-07-24T15:34:35.138298Z"
    }
   },
   "execution_count": 246
  },
  {
   "cell_type": "code",
   "outputs": [
    {
     "name": "stdout",
     "output_type": "stream",
     "text": [
      "input: tensor([5, 3, 2]) ['I', 'like', 'machine']\n",
      "Test Sentence: I like machine\n",
      "Predicted Next Word: learning\n"
     ]
    }
   ],
   "source": [
    "def predict_next_word(model, sentence):\n",
    "    model.eval()\n",
    "    words = sentence.split()\n",
    "    inputs = torch.tensor([word2idx[word] for word in words[-sequence_length:]])\n",
    "    print(f\"input: {inputs} {[idx2word[i] for i in inputs.numpy()]}\")\n",
    "    with torch.no_grad():\n",
    "        outputs = model(inputs.unsqueeze(0))\n",
    "    _, predicted = torch.max(outputs, 1)\n",
    "    return idx2word[predicted.item()]\n",
    "\n",
    "test_sentence = \"I like machine\"\n",
    "predicted_word = predict_next_word(model, test_sentence)\n",
    "print(f'Test Sentence: {test_sentence}')\n",
    "print(f'Predicted Next Word: {predicted_word}')\n"
   ],
   "metadata": {
    "collapsed": false,
    "ExecuteTime": {
     "end_time": "2024-07-24T15:34:35.145013Z",
     "start_time": "2024-07-24T15:34:35.141038Z"
    }
   },
   "execution_count": 247
  },
  {
   "cell_type": "code",
   "outputs": [
    {
     "name": "stdout",
     "output_type": "stream",
     "text": [
      "torch.Size([3, 10])\n"
     ]
    },
    {
     "data": {
      "text/plain": "tensor([[-1.0216, -1.0983,  1.9622,  0.2846,  0.4455,  0.2511, -1.3453,  1.5612,\n         -1.3392,  0.8938],\n        [-0.6920, -0.1960,  0.2310, -0.9003,  0.1606,  0.1781,  1.5161, -0.9190,\n          1.3971,  0.8278],\n        [-0.5341,  0.3217, -1.2317,  0.2177, -0.1810,  0.9337, -0.4379, -0.4338,\n          0.6751, -0.7615]], grad_fn=<EmbeddingBackward0>)"
     },
     "execution_count": 248,
     "metadata": {},
     "output_type": "execute_result"
    }
   ],
   "source": [
    "input = torch.tensor([5, 3, 2])\n",
    "embedding_vector = model.embedding(input)\n",
    "print(embedding_vector.shape)\n",
    "embedding_vector"
   ],
   "metadata": {
    "collapsed": false,
    "ExecuteTime": {
     "end_time": "2024-07-24T15:34:35.149886Z",
     "start_time": "2024-07-24T15:34:35.145828Z"
    }
   },
   "execution_count": 248
  },
  {
   "cell_type": "code",
   "outputs": [
    {
     "data": {
      "text/plain": "tensor([[-0.9086,  3.6545, -3.0021, -3.5241, -1.8928, -1.6690, -2.0727,  0.5226,\n         -3.8520, -2.1618]], grad_fn=<AddmmBackward0>)"
     },
     "execution_count": 249,
     "metadata": {},
     "output_type": "execute_result"
    }
   ],
   "source": [
    "prediction = model(input.unsqueeze(0))\n",
    "prediction"
   ],
   "metadata": {
    "collapsed": false,
    "ExecuteTime": {
     "end_time": "2024-07-24T15:34:35.153597Z",
     "start_time": "2024-07-24T15:34:35.150723Z"
    }
   },
   "execution_count": 249
  },
  {
   "cell_type": "code",
   "outputs": [
    {
     "name": "stdout",
     "output_type": "stream",
     "text": [
      "input: tensor([6, 9, 7]) ['enjoy', 'studying', 'data']\n",
      "Test Sentence: I enjoy studying data\n",
      "Predicted Next Word: science\n"
     ]
    }
   ],
   "source": [
    "test_sentence = \"I enjoy studying data\"\n",
    "predicted_word = predict_next_word(model, test_sentence)\n",
    "print(f'Test Sentence: {test_sentence}')\n",
    "print(f'Predicted Next Word: {predicted_word}')"
   ],
   "metadata": {
    "collapsed": false,
    "ExecuteTime": {
     "end_time": "2024-07-24T15:34:35.157045Z",
     "start_time": "2024-07-24T15:34:35.154495Z"
    }
   },
   "execution_count": 250
  },
  {
   "cell_type": "markdown",
   "source": [],
   "metadata": {
    "collapsed": false
   }
  },
  {
   "cell_type": "markdown",
   "source": [
    "## Word2Vec\n",
    "https://hannibunny.github.io/nlpbook/05representations/01WordEmbeddingImplementation.html\n",
    "What is word2Vec: https://chatgpt.com/share/05846133-e228-45ae-8bfd-b2eead5a8750\n",
    "Pre-trained glove vectors based on 2B tweets, 27B tokens, 1.2M vocab, uncased."
   ],
   "metadata": {
    "collapsed": false
   }
  },
  {
   "cell_type": "code",
   "outputs": [],
   "source": [
    "import gensim.downloader as api"
   ],
   "metadata": {
    "collapsed": false,
    "ExecuteTime": {
     "end_time": "2024-07-24T15:34:35.160343Z",
     "start_time": "2024-07-24T15:34:35.157998Z"
    }
   },
   "execution_count": 251
  },
  {
   "cell_type": "code",
   "outputs": [],
   "source": [
    "model = api.load(\"glove-wiki-gigaword-50\")"
   ],
   "metadata": {
    "collapsed": false,
    "ExecuteTime": {
     "end_time": "2024-07-24T15:34:42.691722Z",
     "start_time": "2024-07-24T15:34:35.161103Z"
    }
   },
   "execution_count": 252
  },
  {
   "cell_type": "code",
   "outputs": [
    {
     "name": "stdout",
     "output_type": "stream",
     "text": [
      "(50,)\n"
     ]
    },
    {
     "data": {
      "text/plain": "array([-0.18153   ,  0.64827   , -0.5821    , -0.49451   ,  1.5415    ,\n        1.345     , -0.43305   ,  0.58059   ,  0.35556   , -0.25184   ,\n        0.20254   , -0.71643   ,  0.3061    ,  0.56127   ,  0.83928   ,\n       -0.38085   , -0.90875   ,  0.43326   , -0.014436  ,  0.23725   ,\n       -0.53799   ,  1.7773    , -0.066433  ,  0.69795   ,  0.69291   ,\n       -2.6739    , -0.76805   ,  0.33929   ,  0.19695   , -0.35245   ,\n        2.292     , -0.27411   , -0.30169   ,  0.00085286,  0.16923   ,\n        0.091433  , -0.02361   ,  0.036236  ,  0.34488   , -0.83947   ,\n       -0.25174   ,  0.42123   ,  0.48616   ,  0.022325  ,  0.5576    ,\n       -0.85223   , -0.23073   , -1.3138    ,  0.48764   , -0.10467   ],\n      dtype=float32)"
     },
     "execution_count": 253,
     "metadata": {},
     "output_type": "execute_result"
    }
   ],
   "source": [
    "# Embedding of woman\n",
    "print(model[\"woman\"].shape)\n",
    "model[\"woman\"]"
   ],
   "metadata": {
    "collapsed": false,
    "ExecuteTime": {
     "end_time": "2024-07-24T15:34:42.697764Z",
     "start_time": "2024-07-24T15:34:42.693076Z"
    }
   },
   "execution_count": 253
  },
  {
   "cell_type": "code",
   "outputs": [
    {
     "data": {
      "text/plain": "array([-0.094386,  0.43007 , -0.17224 , -0.45529 ,  1.6447  ,  0.40335 ,\n       -0.37263 ,  0.25071 , -0.10588 ,  0.10778 , -0.10848 ,  0.15181 ,\n       -0.65396 ,  0.55054 ,  0.59591 , -0.46278 ,  0.11847 ,  0.64448 ,\n       -0.70948 ,  0.23947 , -0.82905 ,  1.272   ,  0.033021,  0.2935  ,\n        0.3911  , -2.8094  , -0.70745 ,  0.4106  ,  0.3894  , -0.2913  ,\n        2.6124  , -0.34576 , -0.16832 ,  0.25154 ,  0.31216 ,  0.31639 ,\n        0.12539 , -0.012646,  0.22297 , -0.56585 , -0.086264,  0.62549 ,\n       -0.0576  ,  0.29375 ,  0.66005 , -0.53115 , -0.48233 , -0.97925 ,\n        0.53135 , -0.11725 ], dtype=float32)"
     },
     "execution_count": 254,
     "metadata": {},
     "output_type": "execute_result"
    }
   ],
   "source": [
    "model[\"man\"]"
   ],
   "metadata": {
    "collapsed": false,
    "ExecuteTime": {
     "end_time": "2024-07-24T15:34:42.702718Z",
     "start_time": "2024-07-24T15:34:42.698621Z"
    }
   },
   "execution_count": 254
  },
  {
   "cell_type": "code",
   "outputs": [
    {
     "name": "stdout",
     "output_type": "stream",
     "text": [
      "queen: 0.8524\n"
     ]
    }
   ],
   "source": [
    "result = model.most_similar(positive=['woman', 'king'], negative=['man'])\n",
    "print(\"{}: {:.4f}\".format(*result[0]))"
   ],
   "metadata": {
    "collapsed": false,
    "ExecuteTime": {
     "end_time": "2024-07-24T15:34:42.837844Z",
     "start_time": "2024-07-24T15:34:42.703663Z"
    }
   },
   "execution_count": 255
  },
  {
   "cell_type": "code",
   "outputs": [
    {
     "name": "stdout",
     "output_type": "stream",
     "text": [
      "mother: 0.9297\n"
     ]
    }
   ],
   "source": [
    "result = model.most_similar(positive=['woman','father'], negative=['man'])\n",
    "print(\"{}: {:.4f}\".format(*result[0]))"
   ],
   "metadata": {
    "collapsed": false,
    "ExecuteTime": {
     "end_time": "2024-07-24T15:34:42.866642Z",
     "start_time": "2024-07-24T15:34:42.849992Z"
    }
   },
   "execution_count": 256
  },
  {
   "cell_type": "code",
   "outputs": [
    {
     "data": {
      "text/plain": "[('son', 0.9207190871238708),\n ('cousin', 0.9150740504264832),\n ('brother', 0.9147959351539612),\n ('grandfather', 0.9021279811859131),\n ('nephew', 0.8987844586372375),\n ('father', 0.8977423310279846),\n ('grandson', 0.8732233643531799),\n ('friend', 0.8402907252311707),\n ('sons', 0.8340393304824829),\n ('brother-in-law', 0.8315790891647339),\n ('elder', 0.8180019855499268),\n ('daughter', 0.8108598589897156),\n ('eldest', 0.7998152375221252),\n ('granddaughter', 0.7981163263320923),\n ('father-in-law', 0.7964633703231812),\n ('son-in-law', 0.7875602841377258),\n ('niece', 0.7810150980949402),\n ('mother', 0.7704520225524902),\n ('dad', 0.7655822038650513),\n ('aunt', 0.7631034255027771)]"
     },
     "execution_count": 257,
     "metadata": {},
     "output_type": "execute_result"
    }
   ],
   "source": [
    "model.most_similar(\"uncle\",topn=20)"
   ],
   "metadata": {
    "collapsed": false,
    "ExecuteTime": {
     "end_time": "2024-07-24T15:34:42.900743Z",
     "start_time": "2024-07-24T15:34:42.869157Z"
    }
   },
   "execution_count": 257
  },
  {
   "cell_type": "code",
   "outputs": [
    {
     "data": {
      "text/plain": "<Figure size 1900x1400 with 1 Axes>",
      "image/png": "[encoded data removed]"
     },
     "metadata": {},
     "output_type": "display_data"
    }
   ],
   "source": [
    "from sklearn.manifold import TSNE\n",
    "from matplotlib import pyplot as plt\n",
    "import numpy as np\n",
    "\n",
    "\n",
    "tsneModel=TSNE(n_components=2,random_state=0)\n",
    "np.set_printoptions(suppress=True)\n",
    "model2d=tsneModel.fit_transform(model[model.index_to_key[100:300]])\n",
    "\n",
    "#%matplotlib inline\n",
    "plt.figure(figsize=(19,14))\n",
    "idx=0\n",
    "for a in model2d[:100]:\n",
    "    w=model.index_to_key[100+idx]\n",
    "    plt.plot(a[0],a[1],'r.')\n",
    "    plt.text(a[0],a[1],w)\n",
    "    idx+=1\n",
    "plt.show()\n"
   ],
   "metadata": {
    "collapsed": false,
    "ExecuteTime": {
     "end_time": "2024-07-24T15:34:44.284952Z",
     "start_time": "2024-07-24T15:34:42.918864Z"
    }
   },
   "execution_count": 258
  },
  {
   "cell_type": "markdown",
   "source": [
    "# History of Language Models\n",
    "Prompt: `how language models evolved from beginning to LLMs. list all critical improvements with short example in chronological order`\n",
    "https://chatgpt.com/share/8f393a57-165b-4210-a53c-a5275a11c766\n",
    "\n",
    "## 1. Rule-based Systems (1950s-1980s)\n",
    "Early language models relied on hand-crafted rules and symbolic processing.\n",
    "\n",
    "**Example:**\n",
    "\n",
    "**ELIZA (1966)**: An early natural language processing computer program that used pattern matching and substitution methodology to simulate conversation.\n",
    "\n",
    "## 2. Statistical Models (1980s-1990s)\n",
    "Introduction of probabilistic models that utilize statistical methods to predict the next word in a sequence.\n",
    "\n",
    "**Example:**\n",
    "\n",
    "**N-gram Models**: Predicts the next word based on the previous n words.\n",
    "\"I am going to the\" -> \"store\" (if \"store\" is the most probable next word based on previous data)\n",
    "\n",
    "## 3. Neural Network Language Models (2000s)\n",
    "Incorporation of neural networks to better capture complex language patterns.\n",
    "\n",
    "**Example:**\n",
    "\n",
    "**Feedforward Neural Networks**: Used fixed-size context windows for predictions.\n",
    "Given the context \"I am going to the\", predict the next word.\n",
    "\n",
    "## 4. Word Embeddings (2013)\n",
    "Development of methods to represent words as dense vectors in a continuous vector space.\n",
    "\n",
    "**Example:**\n",
    "\n",
    "**Word2Vec (2013)**: Represents words in high-dimensional space where similar words have similar vectors.\n",
    "\"king\" - \"man\" + \"woman\" ≈ \"queen\"\n",
    "\n",
    "## 5. Recurrent Neural Networks (RNNs) and LSTMs (2014)\n",
    "Use of RNNs and Long Short-Term Memory networks to handle sequential data and long-range dependencies.\n",
    "\n",
    "**Example:**\n",
    "\n",
    "**LSTM**: Handles the sentence \"The cat that the dog chased was black\" by maintaining context over longer sequences.\n",
    "\n",
    "## 6. Attention Mechanisms (2015)\n",
    "Introduction of attention mechanisms to improve the handling of long-range dependencies in sequences.\n",
    "\n",
    "**Example:**\n",
    "\n",
    "**Attention is All You Need (2017)**: Proposed the Transformer architecture, which uses self-attention mechanisms.\n",
    "Transforms \"The quick brown fox jumps over the lazy dog\" by attending to all words in the sentence.\n",
    "\n",
    "## 7. Transformer Models (2017)\n",
    "Transformers revolutionized NLP by enabling better parallelization and handling of context.\n",
    "\n",
    "**Example:**\n",
    "\n",
    "**BERT (2018)**: Bidirectional Encoder Representations from Transformers, captures context from both directions.\n",
    "Masked Language Modeling: \"The [MASK] brown fox\" -> \"quick\"\n",
    "\n",
    "## 8. Pre-trained Language Models and Fine-tuning (2018)\n",
    "Models pre-trained on large corpora and fine-tuned for specific tasks.\n",
    "\n",
    "**Example:**\n",
    "\n",
    "**GPT (2018)**: Generative Pre-trained Transformer, uses a unidirectional approach.\n",
    "Predicts the next word in \"The cat sat on the\" -> \"mat\"\n",
    "\n",
    "## 9. Large-Scale Language Models (2019-Present)\n",
    "Training on massive datasets with billions of parameters to create highly capable models.\n",
    "\n",
    "**Example:**\n",
    "\n",
    "**GPT-3 (2020)**: With 175 billion parameters, capable of few-shot learning and generating coherent and contextually relevant text.\n",
    "Generates a paragraph continuation given a prompt.\n",
    "\n",
    "## 10. Multimodal Models (2021-Present)\n",
    "Incorporation of multiple types of data (e.g., text, images) to create versatile AI systems.\n",
    "\n",
    "**Example:**\n",
    "\n",
    "**DALL-E (2021)**: Generates images from textual descriptions.\n",
    "\"An armchair in the shape of an avocado\" -> Generates corresponding image.\n",
    "\n",
    "## 11. Emergent Abilities in LLMs (2022-Present)\n",
    "Recognition of emergent capabilities in models as they grow larger and more complex.\n",
    "\n",
    "**Example:**\n",
    "\n",
    "**ChatGPT (2022)**: Conversational abilities that can handle complex dialogues and tasks with high coherence.\n",
    "Engages in a human-like conversation about various topics.\n",
    "\n",
    "These milestones highlight the significant improvements in language modeling, leading to the sophisticated and highly capable large language models we see today.\n"
   ],
   "metadata": {
    "collapsed": false
   }
  },
  {
   "cell_type": "markdown",
   "source": [
    "# ChatGPT"
   ],
   "metadata": {
    "collapsed": false
   }
  },
  {
   "cell_type": "code",
   "outputs": [],
   "source": [
    "from openai import OpenAI\n",
    "client = OpenAI(api_key=OPEN_AI_APIKEY)\n",
    "\n",
    "response = client.chat.completions.create(\n",
    "  model=\"gpt-4o-mini\",\n",
    "  messages=[\n",
    "    {\"role\": \"system\", \"content\": \"You are a helpful assistant.\"},\n",
    "    {\"role\": \"user\", \"content\": \"Who won the world series in 2020?\"},\n",
    "    {\"role\": \"assistant\", \"content\": \"The Los Angeles Dodgers won the World Series in 2020.\"},\n",
    "    {\"role\": \"user\", \"content\": \"Where was it played?\"}\n",
    "  ]\n",
    ")"
   ],
   "metadata": {
    "collapsed": false,
    "ExecuteTime": {
     "end_time": "2024-07-24T09:51:14.590907Z",
     "start_time": "2024-07-24T09:51:12.875844Z"
    }
   },
   "execution_count": 190
  },
  {
   "cell_type": "code",
   "outputs": [
    {
     "data": {
      "text/plain": "'The 2020 World Series was played at Globe Life Field in Arlington, Texas. This was notably the first time the World Series was played at a neutral site due to the COVID-19 pandemic.'"
     },
     "execution_count": 193,
     "metadata": {},
     "output_type": "execute_result"
    }
   ],
   "source": [
    "response.choices[0].message.content"
   ],
   "metadata": {
    "collapsed": false,
    "ExecuteTime": {
     "end_time": "2024-07-24T09:53:18.022259Z",
     "start_time": "2024-07-24T09:53:18.019057Z"
    }
   },
   "execution_count": 193
  },
  {
   "cell_type": "code",
   "outputs": [],
   "source": [],
   "metadata": {
    "collapsed": false
   }
  }
 ]
}
